{
 "cells": [
  {
   "cell_type": "code",
   "execution_count": 107,
   "metadata": {},
   "outputs": [],
   "source": [
    "import pandas as pd\n",
    "import glob"
   ]
  },
  {
   "cell_type": "code",
   "execution_count": 108,
   "metadata": {},
   "outputs": [],
   "source": [
    "path = r'C:\\Users\\Franco\\Desktop\\download_2019-04-24_18-42-57\\D161075\\D161075_2016_data'\n",
    "\n",
    "all_files = glob.glob(path + \"/*.csv\")"
   ]
  },
  {
   "cell_type": "code",
   "execution_count": 109,
   "metadata": {},
   "outputs": [],
   "source": [
    "li = []\n",
    "\n",
    "for filename in all_files:\n",
    "    df = pd.read_csv(filename, index_col=None, header=0, sep=',')\n",
    "    li.append(df)\n",
    "\n",
    "df = pd.concat(li, axis=0, ignore_index=True)"
   ]
  },
  {
   "cell_type": "code",
   "execution_count": 110,
   "metadata": {},
   "outputs": [],
   "source": [
    "df.dropna(inplace=True)"
   ]
  },
  {
   "cell_type": "code",
   "execution_count": 111,
   "metadata": {},
   "outputs": [
    {
     "data": {
      "text/plain": [
       "15614"
      ]
     },
     "execution_count": 111,
     "metadata": {},
     "output_type": "execute_result"
    }
   ],
   "source": [
    "len(df)"
   ]
  },
  {
   "cell_type": "code",
   "execution_count": 112,
   "metadata": {},
   "outputs": [
    {
     "data": {
      "text/html": [
       "<div>\n",
       "<style scoped>\n",
       "    .dataframe tbody tr th:only-of-type {\n",
       "        vertical-align: middle;\n",
       "    }\n",
       "\n",
       "    .dataframe tbody tr th {\n",
       "        vertical-align: top;\n",
       "    }\n",
       "\n",
       "    .dataframe thead th {\n",
       "        text-align: right;\n",
       "    }\n",
       "</style>\n",
       "<table border=\"1\" class=\"dataframe\">\n",
       "  <thead>\n",
       "    <tr style=\"text-align: right;\">\n",
       "      <th></th>\n",
       "      <th>Date/time</th>\n",
       "      <th>Anemómetro 1;wind_speed;Avg</th>\n",
       "      <th>Anemómetro 1;wind_speed;Max</th>\n",
       "      <th>Anemómetro 1;wind_speed;Min</th>\n",
       "      <th>Anemómetro 1;wind_speed;StdDev</th>\n",
       "      <th>Anemómetro 1;wind_speed;Count</th>\n",
       "      <th>Anemómetro 2;wind_speed;Avg</th>\n",
       "      <th>Anemómetro 2;wind_speed;Max</th>\n",
       "      <th>Anemómetro 2;wind_speed;Min</th>\n",
       "      <th>Anemómetro 2;wind_speed;StdDev</th>\n",
       "      <th>...</th>\n",
       "      <th>D3;StdDev</th>\n",
       "      <th>D3;Count</th>\n",
       "      <th>V;Avg</th>\n",
       "      <th>V;Max</th>\n",
       "      <th>V;Min</th>\n",
       "      <th>I;Avg</th>\n",
       "      <th>I;Max</th>\n",
       "      <th>I;Min</th>\n",
       "      <th>T</th>\n",
       "      <th>addr</th>\n",
       "    </tr>\n",
       "  </thead>\n",
       "  <tbody>\n",
       "    <tr>\n",
       "      <th>0</th>\n",
       "      <td>2016-09-14 13:40:00</td>\n",
       "      <td>1.2821</td>\n",
       "      <td>3.2686</td>\n",
       "      <td>0.0000</td>\n",
       "      <td>0.7517</td>\n",
       "      <td>478.0</td>\n",
       "      <td>1.3167</td>\n",
       "      <td>3.1283</td>\n",
       "      <td>0.2744</td>\n",
       "      <td>0.7134</td>\n",
       "      <td>...</td>\n",
       "      <td>342.9989</td>\n",
       "      <td>478.0</td>\n",
       "      <td>13.53</td>\n",
       "      <td>13.61</td>\n",
       "      <td>13.41</td>\n",
       "      <td>60.6653</td>\n",
       "      <td>149.0</td>\n",
       "      <td>53.0</td>\n",
       "      <td>42.0</td>\n",
       "      <td>0.0</td>\n",
       "    </tr>\n",
       "    <tr>\n",
       "      <th>1</th>\n",
       "      <td>2016-09-14 13:50:00</td>\n",
       "      <td>2.1654</td>\n",
       "      <td>4.2806</td>\n",
       "      <td>0.3246</td>\n",
       "      <td>0.8975</td>\n",
       "      <td>600.0</td>\n",
       "      <td>2.1103</td>\n",
       "      <td>4.1410</td>\n",
       "      <td>0.5966</td>\n",
       "      <td>0.8251</td>\n",
       "      <td>...</td>\n",
       "      <td>229.1229</td>\n",
       "      <td>600.0</td>\n",
       "      <td>13.47</td>\n",
       "      <td>13.61</td>\n",
       "      <td>13.36</td>\n",
       "      <td>67.9667</td>\n",
       "      <td>153.0</td>\n",
       "      <td>55.0</td>\n",
       "      <td>43.3</td>\n",
       "      <td>54.0</td>\n",
       "    </tr>\n",
       "    <tr>\n",
       "      <th>2</th>\n",
       "      <td>2016-09-14 14:00:00</td>\n",
       "      <td>2.7435</td>\n",
       "      <td>4.7406</td>\n",
       "      <td>0.6006</td>\n",
       "      <td>0.7650</td>\n",
       "      <td>600.0</td>\n",
       "      <td>2.8815</td>\n",
       "      <td>5.1996</td>\n",
       "      <td>0.4586</td>\n",
       "      <td>0.8082</td>\n",
       "      <td>...</td>\n",
       "      <td>302.1747</td>\n",
       "      <td>600.0</td>\n",
       "      <td>13.58</td>\n",
       "      <td>13.66</td>\n",
       "      <td>13.56</td>\n",
       "      <td>57.7967</td>\n",
       "      <td>64.0</td>\n",
       "      <td>57.0</td>\n",
       "      <td>44.0</td>\n",
       "      <td>116.0</td>\n",
       "    </tr>\n",
       "    <tr>\n",
       "      <th>3</th>\n",
       "      <td>2016-09-14 14:10:00</td>\n",
       "      <td>2.6704</td>\n",
       "      <td>4.6026</td>\n",
       "      <td>1.0606</td>\n",
       "      <td>0.7155</td>\n",
       "      <td>600.0</td>\n",
       "      <td>2.8993</td>\n",
       "      <td>4.3251</td>\n",
       "      <td>1.1950</td>\n",
       "      <td>0.7007</td>\n",
       "      <td>...</td>\n",
       "      <td>387.9849</td>\n",
       "      <td>600.0</td>\n",
       "      <td>13.63</td>\n",
       "      <td>13.71</td>\n",
       "      <td>13.56</td>\n",
       "      <td>58.6917</td>\n",
       "      <td>70.0</td>\n",
       "      <td>55.0</td>\n",
       "      <td>43.1</td>\n",
       "      <td>177.0</td>\n",
       "    </tr>\n",
       "    <tr>\n",
       "      <th>4</th>\n",
       "      <td>2016-09-14 14:20:00</td>\n",
       "      <td>3.0413</td>\n",
       "      <td>5.3386</td>\n",
       "      <td>0.0000</td>\n",
       "      <td>0.9860</td>\n",
       "      <td>600.0</td>\n",
       "      <td>2.9716</td>\n",
       "      <td>4.9695</td>\n",
       "      <td>0.0000</td>\n",
       "      <td>1.0109</td>\n",
       "      <td>...</td>\n",
       "      <td>150.4111</td>\n",
       "      <td>600.0</td>\n",
       "      <td>13.65</td>\n",
       "      <td>13.71</td>\n",
       "      <td>13.61</td>\n",
       "      <td>57.9733</td>\n",
       "      <td>68.0</td>\n",
       "      <td>55.0</td>\n",
       "      <td>42.1</td>\n",
       "      <td>238.0</td>\n",
       "    </tr>\n",
       "  </tbody>\n",
       "</table>\n",
       "<p>5 rows × 123 columns</p>\n",
       "</div>"
      ],
      "text/plain": [
       "             Date/time  Anemómetro 1;wind_speed;Avg  \\\n",
       "0  2016-09-14 13:40:00                       1.2821   \n",
       "1  2016-09-14 13:50:00                       2.1654   \n",
       "2  2016-09-14 14:00:00                       2.7435   \n",
       "3  2016-09-14 14:10:00                       2.6704   \n",
       "4  2016-09-14 14:20:00                       3.0413   \n",
       "\n",
       "   Anemómetro 1;wind_speed;Max  Anemómetro 1;wind_speed;Min  \\\n",
       "0                       3.2686                       0.0000   \n",
       "1                       4.2806                       0.3246   \n",
       "2                       4.7406                       0.6006   \n",
       "3                       4.6026                       1.0606   \n",
       "4                       5.3386                       0.0000   \n",
       "\n",
       "   Anemómetro 1;wind_speed;StdDev  Anemómetro 1;wind_speed;Count  \\\n",
       "0                          0.7517                          478.0   \n",
       "1                          0.8975                          600.0   \n",
       "2                          0.7650                          600.0   \n",
       "3                          0.7155                          600.0   \n",
       "4                          0.9860                          600.0   \n",
       "\n",
       "   Anemómetro 2;wind_speed;Avg  Anemómetro 2;wind_speed;Max  \\\n",
       "0                       1.3167                       3.1283   \n",
       "1                       2.1103                       4.1410   \n",
       "2                       2.8815                       5.1996   \n",
       "3                       2.8993                       4.3251   \n",
       "4                       2.9716                       4.9695   \n",
       "\n",
       "   Anemómetro 2;wind_speed;Min  Anemómetro 2;wind_speed;StdDev  ...    \\\n",
       "0                       0.2744                          0.7134  ...     \n",
       "1                       0.5966                          0.8251  ...     \n",
       "2                       0.4586                          0.8082  ...     \n",
       "3                       1.1950                          0.7007  ...     \n",
       "4                       0.0000                          1.0109  ...     \n",
       "\n",
       "   D3;StdDev  D3;Count  V;Avg  V;Max  V;Min    I;Avg  I;Max  I;Min     T  \\\n",
       "0   342.9989     478.0  13.53  13.61  13.41  60.6653  149.0   53.0  42.0   \n",
       "1   229.1229     600.0  13.47  13.61  13.36  67.9667  153.0   55.0  43.3   \n",
       "2   302.1747     600.0  13.58  13.66  13.56  57.7967   64.0   57.0  44.0   \n",
       "3   387.9849     600.0  13.63  13.71  13.56  58.6917   70.0   55.0  43.1   \n",
       "4   150.4111     600.0  13.65  13.71  13.61  57.9733   68.0   55.0  42.1   \n",
       "\n",
       "    addr  \n",
       "0    0.0  \n",
       "1   54.0  \n",
       "2  116.0  \n",
       "3  177.0  \n",
       "4  238.0  \n",
       "\n",
       "[5 rows x 123 columns]"
      ]
     },
     "execution_count": 112,
     "metadata": {},
     "output_type": "execute_result"
    }
   ],
   "source": [
    "df.head()"
   ]
  },
  {
   "cell_type": "code",
   "execution_count": 113,
   "metadata": {},
   "outputs": [],
   "source": [
    "anem_columns = 'Anemómetro'\n",
    "vane_columns = 'Veleta'\n",
    "avg_columns = 'Avg'\n",
    "\n",
    "anem_columns = df[df.columns[(df.columns.str.contains(anem_columns)) & df.columns.str.contains(avg_columns)]]\n",
    "vane_columns = df[df.columns[(df.columns.str.contains(vane_columns)) & df.columns.str.contains(avg_columns)]]"
   ]
  },
  {
   "cell_type": "code",
   "execution_count": 114,
   "metadata": {},
   "outputs": [],
   "source": [
    "anem_columns.columns = ['Ch'+str(i)+'Anem' for i in range(1, len(anem_columns.columns) +1)]\n",
    "vane_columns.columns = ['Ch'+str(i)+'Vane' for i in range(len(anem_columns.columns)+1, len(anem_columns.columns) + len(vane_columns.columns) +1)]"
   ]
  },
  {
   "cell_type": "code",
   "execution_count": 115,
   "metadata": {},
   "outputs": [],
   "source": [
    "df_final = anem_columns.join([vane_columns, df['Date/time']])"
   ]
  },
  {
   "cell_type": "code",
   "execution_count": 116,
   "metadata": {},
   "outputs": [],
   "source": [
    "df_final.rename(columns={'Date/time': 'Timestamp'}, inplace=True)"
   ]
  },
  {
   "cell_type": "code",
   "execution_count": 119,
   "metadata": {},
   "outputs": [],
   "source": [
    "df_final.reset_index(inplace=True)"
   ]
  },
  {
   "cell_type": "code",
   "execution_count": 123,
   "metadata": {},
   "outputs": [],
   "source": [
    "df_final.drop('index', axis=1, inplace=True)"
   ]
  },
  {
   "cell_type": "code",
   "execution_count": 124,
   "metadata": {},
   "outputs": [],
   "source": [
    "df_final.to_csv('data/D161075_2016_data.csv')"
   ]
  },
  {
   "cell_type": "code",
   "execution_count": null,
   "metadata": {},
   "outputs": [],
   "source": []
  },
  {
   "cell_type": "code",
   "execution_count": null,
   "metadata": {},
   "outputs": [],
   "source": []
  }
 ],
 "metadata": {
  "kernelspec": {
   "display_name": "Python 3",
   "language": "python",
   "name": "python3"
  },
  "language_info": {
   "codemirror_mode": {
    "name": "ipython",
    "version": 3
   },
   "file_extension": ".py",
   "mimetype": "text/x-python",
   "name": "python",
   "nbconvert_exporter": "python",
   "pygments_lexer": "ipython3",
   "version": "3.7.1"
  }
 },
 "nbformat": 4,
 "nbformat_minor": 2
}
