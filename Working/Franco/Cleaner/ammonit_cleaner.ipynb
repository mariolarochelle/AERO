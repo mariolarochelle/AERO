{
 "cells": [
  {
   "cell_type": "code",
   "execution_count": 1,
   "metadata": {},
   "outputs": [],
   "source": [
    "import pandas as pd\n",
    "import glob"
   ]
  },
  {
   "cell_type": "code",
   "execution_count": 7,
   "metadata": {},
   "outputs": [],
   "source": [
    "path = r'/home/fran/Desktop/UP/Investigacion UP/AERO/Data/Datos a limpiar/D161075/D161075_2018_data'\n",
    "\n",
    "all_files = glob.glob(path + \"/*.csv\")"
   ]
  },
  {
   "cell_type": "code",
   "execution_count": 9,
   "metadata": {},
   "outputs": [],
   "source": [
    "li = []\n",
    "\n",
    "for filename in all_files:\n",
    "    df = pd.read_csv(filename, index_col=None, header=0, sep=',')\n",
    "    li.append(df)\n",
    "\n",
    "df = pd.concat(li, axis=0, ignore_index=True)"
   ]
  },
  {
   "cell_type": "code",
   "execution_count": 10,
   "metadata": {},
   "outputs": [],
   "source": [
    "df.dropna(inplace=True)"
   ]
  },
  {
   "cell_type": "code",
   "execution_count": 11,
   "metadata": {},
   "outputs": [],
   "source": [
    "anem_columns = 'Anemómetro'\n",
    "vane_columns = 'Veleta'\n",
    "min_columns = 'Min'\n",
    "count_columns = 'Count'\n",
    "\n",
    "anem_columns_min = df[df.columns[(df.columns.str.contains(anem_columns)) & df.columns.str.contains(min_columns)]].copy()\n",
    "vane_columns_count = df[df.columns[(df.columns.str.contains(anem_columns)) & df.columns.str.contains(count_columns)]].copy()"
   ]
  },
  {
   "cell_type": "code",
   "execution_count": 12,
   "metadata": {},
   "outputs": [],
   "source": [
    "std_columns = 'StdDev'\n",
    "\n",
    "anem_columns_std = df[df.columns[(df.columns.str.contains(anem_columns)) & df.columns.str.contains(std_columns)]].copy()\n",
    "vane_columns_std = df[df.columns[(df.columns.str.contains(vane_columns)) & df.columns.str.contains(std_columns)]].copy()"
   ]
  },
  {
   "cell_type": "code",
   "execution_count": 13,
   "metadata": {},
   "outputs": [],
   "source": [
    "avg_columns = 'Avg'\n",
    "\n",
    "anem_columns = df[df.columns[(df.columns.str.contains(anem_columns)) & df.columns.str.contains(avg_columns)]].copy()\n",
    "vane_columns = df[df.columns[(df.columns.str.contains(vane_columns)) & df.columns.str.contains(avg_columns)]].copy()"
   ]
  },
  {
   "cell_type": "code",
   "execution_count": 14,
   "metadata": {},
   "outputs": [],
   "source": [
    "anem_columns.columns = ['Ch'+str(i)+'Anem' for i in range(1, len(anem_columns.columns) +1)]\n",
    "vane_columns.columns = ['Ch'+str(i)+'Vane' for i in range(len(anem_columns.columns)+1, len(anem_columns.columns) + len(vane_columns.columns) +1)]"
   ]
  },
  {
   "cell_type": "code",
   "execution_count": 15,
   "metadata": {},
   "outputs": [],
   "source": [
    "anem_columns_min.columns = ['Ch'+str(i)+'Anem_Min' for i in range(1, len(anem_columns_min.columns) +1)]\n",
    "vane_columns_count.columns = ['Ch'+str(i)+'Vane_Count' for i in range(len(vane_columns_count.columns)+1, len(vane_columns_count.columns) + len(vane_columns_count.columns) +1)]"
   ]
  },
  {
   "cell_type": "code",
   "execution_count": 16,
   "metadata": {},
   "outputs": [],
   "source": [
    "anem_columns_std.columns = ['Ch'+str(i)+'Anem_Max' for i in range(1, len(anem_columns_std.columns) +1)]\n",
    "vane_columns_std.columns = ['Ch'+str(i)+'Vane_Max' for i in range(len(vane_columns_std.columns)+1, len(vane_columns_std.columns) + len(vane_columns_std.columns) +1)]"
   ]
  },
  {
   "cell_type": "code",
   "execution_count": 17,
   "metadata": {},
   "outputs": [],
   "source": [
    "total_datasets = [df['Date/time'], anem_columns, anem_columns_min, anem_columns_std, vane_columns, vane_columns_std, vane_columns_std]"
   ]
  },
  {
   "cell_type": "code",
   "execution_count": 18,
   "metadata": {},
   "outputs": [],
   "source": [
    "df_final = pd.concat([df for df in total_datasets], axis=1)"
   ]
  },
  {
   "cell_type": "code",
   "execution_count": 19,
   "metadata": {},
   "outputs": [],
   "source": [
    "df_final.rename(columns={'Date/time': 'Timestamp'}, inplace=True)"
   ]
  },
  {
   "cell_type": "code",
   "execution_count": 20,
   "metadata": {},
   "outputs": [],
   "source": [
    "df_final.reset_index(inplace=True)"
   ]
  },
  {
   "cell_type": "code",
   "execution_count": 21,
   "metadata": {},
   "outputs": [],
   "source": [
    "df_final.drop('index', axis=1, inplace=True)"
   ]
  },
  {
   "cell_type": "code",
   "execution_count": 22,
   "metadata": {},
   "outputs": [],
   "source": [
    "df_final.to_csv('data/D161075_2018_data.csv')"
   ]
  },
  {
   "cell_type": "code",
   "execution_count": null,
   "metadata": {},
   "outputs": [],
   "source": []
  }
 ],
 "metadata": {
  "kernelspec": {
   "display_name": "Python 3",
   "language": "python",
   "name": "python3"
  },
  "language_info": {
   "codemirror_mode": {
    "name": "ipython",
    "version": 3
   },
   "file_extension": ".py",
   "mimetype": "text/x-python",
   "name": "python",
   "nbconvert_exporter": "python",
   "pygments_lexer": "ipython3",
   "version": "3.7.3"
  }
 },
 "nbformat": 4,
 "nbformat_minor": 4
}
