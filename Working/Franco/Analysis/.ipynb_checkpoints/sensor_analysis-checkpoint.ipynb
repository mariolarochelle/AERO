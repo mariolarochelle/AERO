{
 "cells": [
  {
   "cell_type": "code",
   "execution_count": 1,
   "metadata": {},
   "outputs": [],
   "source": [
    "import pandas as pd\n",
    "import numpy as np\n",
    "from itertools import chain"
   ]
  },
  {
   "cell_type": "code",
   "execution_count": 2,
   "metadata": {},
   "outputs": [
    {
     "ename": "ModuleNotFoundError",
     "evalue": "No module named 'tqdm'",
     "output_type": "error",
     "traceback": [
      "\u001b[0;31m---------------------------------------------------------------------------\u001b[0m",
      "\u001b[0;31mModuleNotFoundError\u001b[0m                       Traceback (most recent call last)",
      "\u001b[0;32m<ipython-input-2-612f954c906f>\u001b[0m in \u001b[0;36m<module>\u001b[0;34m()\u001b[0m\n\u001b[0;32m----> 1\u001b[0;31m \u001b[0;32mfrom\u001b[0m \u001b[0msensor_analysis_functions\u001b[0m \u001b[0;32mimport\u001b[0m \u001b[0mfault_detection\u001b[0m\u001b[0;34m,\u001b[0m \u001b[0mplotting_anem_parameter_tunning\u001b[0m\u001b[0;34m,\u001b[0m \u001b[0manemometer_identification\u001b[0m\u001b[0;34m,\u001b[0m \u001b[0mplot_sensors\u001b[0m\u001b[0;34m,\u001b[0m \u001b[0mget_index_list\u001b[0m\u001b[0;34m,\u001b[0m \u001b[0msplit_kneighbor_indexes\u001b[0m\u001b[0;34m,\u001b[0m \u001b[0mgenerate_dashboard\u001b[0m\u001b[0;34m\u001b[0m\u001b[0m\n\u001b[0m",
      "\u001b[0;32m~/Documents/Academic Research/AERO/Working/Franco/Analysis/sensor_analysis_functions.py\u001b[0m in \u001b[0;36m<module>\u001b[0;34m()\u001b[0m\n\u001b[1;32m     27\u001b[0m \u001b[0;32mimport\u001b[0m \u001b[0mitertools\u001b[0m\u001b[0;34m\u001b[0m\u001b[0m\n\u001b[1;32m     28\u001b[0m \u001b[0;32mimport\u001b[0m \u001b[0mos\u001b[0m\u001b[0;34m\u001b[0m\u001b[0m\n\u001b[0;32m---> 29\u001b[0;31m \u001b[0;32mfrom\u001b[0m \u001b[0mtqdm\u001b[0m \u001b[0;32mimport\u001b[0m \u001b[0mtqdm\u001b[0m\u001b[0;34m\u001b[0m\u001b[0m\n\u001b[0m\u001b[1;32m     30\u001b[0m \u001b[0;32mfrom\u001b[0m \u001b[0moperator\u001b[0m \u001b[0;32mimport\u001b[0m \u001b[0mitemgetter\u001b[0m\u001b[0;34m\u001b[0m\u001b[0m\n\u001b[1;32m     31\u001b[0m \u001b[0;32mfrom\u001b[0m \u001b[0mitertools\u001b[0m \u001b[0;32mimport\u001b[0m \u001b[0;34m*\u001b[0m\u001b[0;34m\u001b[0m\u001b[0m\n",
      "\u001b[0;31mModuleNotFoundError\u001b[0m: No module named 'tqdm'"
     ]
    }
   ],
   "source": [
    "from sensor_analysis_functions import fault_detection, plotting_anem_parameter_tunning, anemometer_identification, plot_sensors, get_index_list, split_kneighbor_indexes, generate_dashboard"
   ]
  },
  {
   "cell_type": "code",
   "execution_count": 3,
   "metadata": {},
   "outputs": [],
   "source": [
    "df_vaquerias = pd.read_csv('../Cleaner/data/000960_Vaquerias,_Jalisco_meas_2017.09.04-2017.10.03.txt_data_cleaned.csv', index_col=0)\n",
    "df_D161075 = pd.read_csv('../Cleaner/data/D161075_2016_data.csv', index_col=0)"
   ]
  },
  {
   "cell_type": "code",
   "execution_count": 4,
   "metadata": {},
   "outputs": [
    {
     "name": "stderr",
     "output_type": "stream",
     "text": [
      "100%|██████████| 11292/11292 [00:20<00:00, 554.80it/s]\n"
     ]
    }
   ],
   "source": [
    "df_vaquerias_fault_detection = fault_detection(df_vaquerias, sensor='anem', correlation_window=10, ratio_th = 10, correlation_th= .7)\n",
    "df_vaquerias_anemometer_identification = anemometer_identification(df_vaquerias_fault_detection)"
   ]
  },
  {
   "cell_type": "code",
   "execution_count": 5,
   "metadata": {},
   "outputs": [
    {
     "name": "stderr",
     "output_type": "stream",
     "text": [
      "100%|██████████| 2196/2196 [00:03<00:00, 614.88it/s]\n"
     ]
    }
   ],
   "source": [
    "df_D161075_fault_detection = fault_detection(df_D161075, sensor='anem', correlation_window=10, ratio_th = 10, correlation_th= .7)\n",
    "df_D161075_anemometer_identification = anemometer_identification(df_D161075_fault_detection)"
   ]
  },
  {
   "cell_type": "code",
   "execution_count": 11,
   "metadata": {},
   "outputs": [],
   "source": [
    "df_D161075_redundant_sensors = {\n",
    "    'Ch1Anem': 'Ch2Anem',\n",
    "    'Ch2Anem': 'Ch1Anem',\n",
    "    'Ch3Anem': 'Ch4Anem',\n",
    "    'Ch4Anem': 'Ch3Anem',\n",
    "    'Ch5Anem': 'Ch6Anem',\n",
    "    'Ch6Anem': 'Ch5Anem',\n",
    "}"
   ]
  },
  {
   "cell_type": "code",
   "execution_count": 7,
   "metadata": {},
   "outputs": [
    {
     "name": "stderr",
     "output_type": "stream",
     "text": [
      "100%|██████████| 40/40 [00:02<00:00, 19.49it/s]\n",
      "100%|██████████| 28/28 [00:01<00:00, 23.97it/s]\n",
      "100%|██████████| 16/16 [00:00<00:00, 31.82it/s]\n",
      "100%|██████████| 13/13 [00:00<00:00, 34.99it/s]\n",
      "100%|██████████| 28/28 [00:01<00:00, 23.49it/s]\n",
      "100%|██████████| 26/26 [00:01<00:00, 24.76it/s]\n"
     ]
    }
   ],
   "source": [
    "df_D161075_anemometer_identification.name = 'D161075'\n",
    "generate_dashboard(df_D161075_anemometer_identification, redundance_dict=df_D161075_redundant_sensors)"
   ]
  },
  {
   "cell_type": "code",
   "execution_count": 12,
   "metadata": {},
   "outputs": [],
   "source": [
    "df_vaquerias_redundant_sensors = {\n",
    "    'Ch1Anem': 'Ch2Anem',\n",
    "    'Ch2Anem': 'Ch1Anem',\n",
    "    'Ch3Anem': 'Ch2Anem',\n",
    "    'Ch4Anem': 'Ch5Anem',\n",
    "    'Ch5Anem': 'Ch4Anem',\n",
    "    'Ch6Anem': 'Ch5Anem',\n",
    "}"
   ]
  },
  {
   "cell_type": "code",
   "execution_count": 13,
   "metadata": {},
   "outputs": [
    {
     "name": "stderr",
     "output_type": "stream",
     "text": [
      "100%|██████████| 10/10 [00:00<00:00, 44.21it/s]\n",
      "100%|██████████| 74/74 [00:06<00:00,  6.31it/s]\n",
      "ERROR:root:Internal Python error in the inspect module.\n",
      "Below is the traceback from this internal error.\n",
      "\n"
     ]
    },
    {
     "name": "stdout",
     "output_type": "stream",
     "text": [
      "Traceback (most recent call last):\n",
      "  File \"D:\\Program Files (x86)\\Anaconda\\lib\\site-packages\\IPython\\core\\interactiveshell.py\", line 3267, in run_code\n",
      "    exec(code_obj, self.user_global_ns, self.user_ns)\n",
      "  File \"<ipython-input-13-00517f7bfd07>\", line 2, in <module>\n",
      "    generate_dashboard(df_vaquerias_anemometer_identification, redundance_dict=df_vaquerias_redundant_sensors)\n",
      "  File \"C:\\Users\\Franco\\Documents\\AnacondaProjects\\Github\\AERO\\Working\\Franco\\Analysis\\sensor_analysis_functions.py\", line 300, in generate_dashboard\n",
      "    Html_file.write(html)\n",
      "KeyboardInterrupt\n",
      "\n",
      "During handling of the above exception, another exception occurred:\n",
      "\n",
      "Traceback (most recent call last):\n",
      "  File \"D:\\Program Files (x86)\\Anaconda\\lib\\site-packages\\IPython\\core\\interactiveshell.py\", line 2018, in showtraceback\n",
      "    stb = value._render_traceback_()\n",
      "AttributeError: 'KeyboardInterrupt' object has no attribute '_render_traceback_'\n",
      "\n",
      "During handling of the above exception, another exception occurred:\n",
      "\n",
      "Traceback (most recent call last):\n",
      "  File \"D:\\Program Files (x86)\\Anaconda\\lib\\site-packages\\IPython\\core\\ultratb.py\", line 1095, in get_records\n",
      "    return _fixed_getinnerframes(etb, number_of_lines_of_context, tb_offset)\n",
      "  File \"D:\\Program Files (x86)\\Anaconda\\lib\\site-packages\\IPython\\core\\ultratb.py\", line 313, in wrapped\n",
      "    return f(*args, **kwargs)\n",
      "  File \"D:\\Program Files (x86)\\Anaconda\\lib\\site-packages\\IPython\\core\\ultratb.py\", line 347, in _fixed_getinnerframes\n",
      "    records = fix_frame_records_filenames(inspect.getinnerframes(etb, context))\n",
      "  File \"D:\\Program Files (x86)\\Anaconda\\lib\\inspect.py\", line 1500, in getinnerframes\n",
      "    frameinfo = (tb.tb_frame,) + getframeinfo(tb, context)\n",
      "  File \"D:\\Program Files (x86)\\Anaconda\\lib\\inspect.py\", line 1458, in getframeinfo\n",
      "    filename = getsourcefile(frame) or getfile(frame)\n",
      "  File \"D:\\Program Files (x86)\\Anaconda\\lib\\inspect.py\", line 696, in getsourcefile\n",
      "    if getattr(getmodule(object, filename), '__loader__', None) is not None:\n",
      "  File \"D:\\Program Files (x86)\\Anaconda\\lib\\inspect.py\", line 739, in getmodule\n",
      "    f = getabsfile(module)\n",
      "  File \"D:\\Program Files (x86)\\Anaconda\\lib\\inspect.py\", line 708, in getabsfile\n",
      "    _filename = getsourcefile(object) or getfile(object)\n",
      "  File \"D:\\Program Files (x86)\\Anaconda\\lib\\inspect.py\", line 693, in getsourcefile\n",
      "    if os.path.exists(filename):\n",
      "  File \"D:\\Program Files (x86)\\Anaconda\\lib\\genericpath.py\", line 19, in exists\n",
      "    os.stat(path)\n",
      "KeyboardInterrupt\n"
     ]
    },
    {
     "ename": "KeyboardInterrupt",
     "evalue": "",
     "output_type": "error",
     "traceback": [
      "\u001b[1;31m---------------------------------------------------------------------------\u001b[0m"
     ]
    }
   ],
   "source": [
    "df_vaquerias_anemometer_identification.name = 'Vaquerias'\n",
    "generate_dashboard(df_vaquerias_anemometer_identification, redundance_dict=df_vaquerias_redundant_sensors)"
   ]
  },
  {
   "cell_type": "code",
   "execution_count": null,
   "metadata": {},
   "outputs": [],
   "source": []
  },
  {
   "cell_type": "code",
   "execution_count": null,
   "metadata": {},
   "outputs": [],
   "source": []
  },
  {
   "cell_type": "code",
   "execution_count": null,
   "metadata": {},
   "outputs": [],
   "source": []
  },
  {
   "cell_type": "code",
   "execution_count": null,
   "metadata": {},
   "outputs": [],
   "source": []
  },
  {
   "cell_type": "code",
   "execution_count": null,
   "metadata": {},
   "outputs": [],
   "source": []
  },
  {
   "cell_type": "code",
   "execution_count": null,
   "metadata": {},
   "outputs": [],
   "source": []
  },
  {
   "cell_type": "code",
   "execution_count": null,
   "metadata": {},
   "outputs": [],
   "source": []
  },
  {
   "cell_type": "code",
   "execution_count": null,
   "metadata": {},
   "outputs": [],
   "source": []
  },
  {
   "cell_type": "code",
   "execution_count": null,
   "metadata": {},
   "outputs": [],
   "source": []
  },
  {
   "cell_type": "code",
   "execution_count": null,
   "metadata": {},
   "outputs": [],
   "source": []
  },
  {
   "cell_type": "code",
   "execution_count": 14,
   "metadata": {},
   "outputs": [],
   "source": [
    "indexes_ch1anem = get_index_list(df_vaquerias_anemometer_identification, 'Ch1Anem')\n",
    "splited_indexes_ch1anem = split_kneighbor_indexes(indexes_ch1anem, 12)"
   ]
  },
  {
   "cell_type": "code",
   "execution_count": null,
   "metadata": {},
   "outputs": [],
   "source": []
  },
  {
   "cell_type": "code",
   "execution_count": null,
   "metadata": {},
   "outputs": [],
   "source": []
  },
  {
   "cell_type": "code",
   "execution_count": null,
   "metadata": {},
   "outputs": [],
   "source": []
  },
  {
   "cell_type": "code",
   "execution_count": 11,
   "metadata": {},
   "outputs": [],
   "source": [
    "indexes_ch1anem = get_index_list(df_D161075_anemometer_identification, 'Ch1Anem')\n",
    "splited_indexes_ch1anem = split_kneighbor_indexes(indexes_ch1anem, 10)"
   ]
  },
  {
   "cell_type": "code",
   "execution_count": 12,
   "metadata": {},
   "outputs": [],
   "source": [
    "plot_sensors(df_D161075_anemometer_identification, splited_indexes_ch1anem[4][0], sensors=['Ch1Anem', 'Ch2Anem'])"
   ]
  },
  {
   "cell_type": "code",
   "execution_count": 14,
   "metadata": {},
   "outputs": [
    {
     "data": {
      "text/plain": [
       "array(['None', 'Ch4Anem',\n",
       "       'Ch1Anem,Ch2Anem,Ch3Anem,Ch4Anem,Ch5Anem,Ch6Anem',\n",
       "       'Ch1Anem,Ch2Anem,Ch3Anem,Ch4Anem,Ch5Anem',\n",
       "       'Ch1Anem,Ch2Anem,Ch4Anem,Ch5Anem', 'Ch4Anem,Ch6Anem',\n",
       "       'Ch1Anem,Ch2Anem,Ch4Anem,Ch6Anem', 'Ch1Anem,Ch2Anem,Ch6Anem',\n",
       "       'Ch1Anem,Ch2Anem', 'Ch1Anem,Ch2Anem,Ch3Anem,Ch4Anem,Ch6Anem',\n",
       "       'Ch2Anem,Ch6Anem', 'Ch2Anem,Ch3Anem,Ch6Anem',\n",
       "       'Ch2Anem,Ch3Anem,Ch4Anem,Ch6Anem', 'Ch2Anem,Ch4Anem,Ch6Anem',\n",
       "       'Ch2Anem,Ch4Anem,Ch5Anem,Ch6Anem',\n",
       "       'Ch1Anem,Ch2Anem,Ch4Anem,Ch5Anem,Ch6Anem', 'Ch2Anem',\n",
       "       'Ch2Anem,Ch3Anem', 'Ch1Anem,Ch6Anem',\n",
       "       'Ch1Anem,Ch2Anem,Ch5Anem,Ch6Anem', 'Ch1Anem', 'Ch1Anem,Ch4Anem',\n",
       "       'Ch1Anem,Ch2Anem,Ch4Anem', 'Ch1Anem,Ch3Anem,Ch6Anem',\n",
       "       'Ch1Anem,Ch2Anem,Ch3Anem,Ch5Anem,Ch6Anem',\n",
       "       'Ch1Anem,Ch2Anem,Ch3Anem,Ch6Anem', 'Ch1Anem,Ch5Anem',\n",
       "       'Ch1Anem,Ch2Anem,Ch5Anem', 'Ch1Anem,Ch2Anem,Ch3Anem',\n",
       "       'Ch1Anem,Ch2Anem,Ch3Anem,Ch4Anem',\n",
       "       'Ch1Anem,Ch3Anem,Ch4Anem,Ch5Anem,Ch6Anem', 'Ch1Anem,Ch3Anem',\n",
       "       'Ch1Anem,Ch3Anem,Ch4Anem,Ch6Anem', 'Ch1Anem,Ch4Anem,Ch6Anem',\n",
       "       'Ch1Anem,Ch2Anem,Ch3Anem,Ch5Anem', 'Ch1Anem,Ch3Anem,Ch4Anem',\n",
       "       'Ch1Anem,Ch3Anem,Ch5Anem,Ch6Anem', 'Ch1Anem,Ch4Anem,Ch5Anem',\n",
       "       'Ch6Anem'], dtype=object)"
      ]
     },
     "execution_count": 14,
     "metadata": {},
     "output_type": "execute_result"
    }
   ],
   "source": [
    "df_vaquerias_anemometer_identification['broken?'].unique()"
   ]
  },
  {
   "cell_type": "code",
   "execution_count": null,
   "metadata": {},
   "outputs": [],
   "source": []
  },
  {
   "cell_type": "code",
   "execution_count": null,
   "metadata": {},
   "outputs": [],
   "source": []
  },
  {
   "cell_type": "code",
   "execution_count": null,
   "metadata": {},
   "outputs": [],
   "source": []
  },
  {
   "cell_type": "code",
   "execution_count": null,
   "metadata": {},
   "outputs": [],
   "source": []
  },
  {
   "cell_type": "code",
   "execution_count": null,
   "metadata": {},
   "outputs": [],
   "source": []
  },
  {
   "cell_type": "code",
   "execution_count": null,
   "metadata": {},
   "outputs": [],
   "source": []
  },
  {
   "cell_type": "code",
   "execution_count": null,
   "metadata": {},
   "outputs": [],
   "source": []
  },
  {
   "cell_type": "code",
   "execution_count": 39,
   "metadata": {},
   "outputs": [],
   "source": [
    "df_D161075_fault_detection_vane = fault_detection(df_D161075, sensor='vane', diff_th=.7)"
   ]
  },
  {
   "cell_type": "code",
   "execution_count": 69,
   "metadata": {},
   "outputs": [
    {
     "data": {
      "text/plain": [
       "242.09681741385876"
      ]
     },
     "execution_count": 69,
     "metadata": {},
     "output_type": "execute_result"
    }
   ],
   "source": [
    "df_D161075_fault_detection_vane['Ch9Vane'].mean()"
   ]
  },
  {
   "cell_type": "code",
   "execution_count": 70,
   "metadata": {},
   "outputs": [
    {
     "data": {
      "text/plain": [
       "82.87215021823533"
      ]
     },
     "execution_count": 70,
     "metadata": {},
     "output_type": "execute_result"
    }
   ],
   "source": [
    "df_D161075_fault_detection_vane['Ch9Vane'].std()"
   ]
  },
  {
   "cell_type": "code",
   "execution_count": 47,
   "metadata": {},
   "outputs": [
    {
     "data": {
      "text/plain": [
       "(5368, 5436)"
      ]
     },
     "execution_count": 47,
     "metadata": {},
     "output_type": "execute_result"
    }
   ],
   "source": [
    "splited_indexes_ch1anem[31][0], splited_indexes_ch1anem[31][-1]"
   ]
  },
  {
   "cell_type": "code",
   "execution_count": 71,
   "metadata": {},
   "outputs": [
    {
     "data": {
      "text/plain": [
       "208.40135891364872"
      ]
     },
     "execution_count": 71,
     "metadata": {},
     "output_type": "execute_result"
    }
   ],
   "source": [
    "df_D161075_fault_detection_vane['Ch9Vane'][list(chain(*splited_indexes_ch1anem))].mean()"
   ]
  },
  {
   "cell_type": "code",
   "execution_count": 72,
   "metadata": {},
   "outputs": [
    {
     "data": {
      "text/plain": [
       "85.12951383494544"
      ]
     },
     "execution_count": 72,
     "metadata": {},
     "output_type": "execute_result"
    }
   ],
   "source": [
    "df_D161075_fault_detection_vane['Ch9Vane'][list(chain(*splited_indexes_ch1anem))].std()"
   ]
  },
  {
   "cell_type": "code",
   "execution_count": 75,
   "metadata": {},
   "outputs": [
    {
     "data": {
      "text/plain": [
       "1246"
      ]
     },
     "execution_count": 75,
     "metadata": {},
     "output_type": "execute_result"
    }
   ],
   "source": [
    "len(df_D161075_anemometer_identification[df_D161075_anemometer_identification['broken?'] != 'None'])"
   ]
  },
  {
   "cell_type": "code",
   "execution_count": 79,
   "metadata": {},
   "outputs": [],
   "source": [
    "list_index = df_D161075_anemometer_identification[df_D161075_anemometer_identification['broken?'] != 'None'].index"
   ]
  },
  {
   "cell_type": "code",
   "execution_count": 80,
   "metadata": {},
   "outputs": [],
   "source": [
    "list_index_splitted = split_kneighbor_indexes(list_index, 10)"
   ]
  },
  {
   "cell_type": "code",
   "execution_count": 82,
   "metadata": {},
   "outputs": [
    {
     "data": {
      "text/plain": [
       "120"
      ]
     },
     "execution_count": 82,
     "metadata": {},
     "output_type": "execute_result"
    }
   ],
   "source": [
    "len(list_index_splitted)"
   ]
  },
  {
   "cell_type": "code",
   "execution_count": 83,
   "metadata": {},
   "outputs": [
    {
     "data": {
      "text/plain": [
       "[Int64Index([82, 83], dtype='int64'),\n",
       " Int64Index([168, 169], dtype='int64'),\n",
       " Int64Index([234, 237, 238, 239, 244, 245], dtype='int64'),\n",
       " Int64Index([400, 401, 402, 403, 404, 405], dtype='int64'),\n",
       " Int64Index([692, 693], dtype='int64'),\n",
       " Int64Index([788], dtype='int64'),\n",
       " Int64Index([950, 951], dtype='int64'),\n",
       " Int64Index([1032, 1033, 1034, 1035, 1036, 1037, 1038, 1039, 1040, 1045, 1046,\n",
       "             1047, 1048, 1049],\n",
       "            dtype='int64'),\n",
       " Int64Index([1090, 1091, 1092], dtype='int64'),\n",
       " Int64Index([1130, 1131, 1132, 1133, 1134, 1135, 1136, 1137, 1138], dtype='int64'),\n",
       " Int64Index([1230, 1231, 1232, 1233, 1234, 1236], dtype='int64'),\n",
       " Int64Index([1407, 1408], dtype='int64'),\n",
       " Int64Index([1662], dtype='int64'),\n",
       " Int64Index([1781, 1782], dtype='int64'),\n",
       " Int64Index([2079, 2080, 2081], dtype='int64'),\n",
       " Int64Index([2237], dtype='int64'),\n",
       " Int64Index([2345, 2346, 2352, 2360, 2361, 2362, 2363, 2364, 2365, 2366, 2367,\n",
       "             2368, 2371, 2372, 2373, 2374, 2375, 2376, 2377, 2378, 2379, 2380,\n",
       "             2381, 2382, 2383, 2384, 2385, 2386, 2387, 2388, 2389, 2390, 2391,\n",
       "             2392, 2393, 2394, 2395, 2396, 2397, 2398, 2399, 2400, 2401, 2402,\n",
       "             2403, 2404, 2405, 2406],\n",
       "            dtype='int64'),\n",
       " Int64Index([2510], dtype='int64'),\n",
       " Int64Index([2526, 2527, 2528, 2529, 2530], dtype='int64'),\n",
       " Int64Index([2545, 2546, 2547, 2548, 2549, 2550, 2551, 2552, 2553, 2554, 2564], dtype='int64'),\n",
       " Int64Index([2636, 2637, 2638, 2639], dtype='int64'),\n",
       " Int64Index([2656, 2657, 2658, 2659, 2660, 2661, 2662, 2671], dtype='int64'),\n",
       " Int64Index([2806, 2807, 2808, 2809, 2810], dtype='int64'),\n",
       " Int64Index([2837, 2844, 2853, 2854, 2855, 2856, 2857], dtype='int64'),\n",
       " Int64Index([2979, 2980, 2981, 2982, 2983, 2984, 2985, 2986], dtype='int64'),\n",
       " Int64Index([3137, 3138, 3139], dtype='int64'),\n",
       " Int64Index([3282], dtype='int64'),\n",
       " Int64Index([3349, 3350, 3351, 3352, 3353, 3354, 3355, 3356, 3357, 3358, 3359,\n",
       "             3360, 3361, 3362, 3363, 3364, 3365],\n",
       "            dtype='int64'),\n",
       " Int64Index([3611, 3612, 3613, 3614, 3615, 3616, 3617, 3618, 3622, 3623, 3624,\n",
       "             3625, 3626, 3627, 3628, 3629, 3635, 3636, 3637, 3646, 3647, 3654,\n",
       "             3655, 3656, 3657, 3658, 3659, 3660, 3661, 3662, 3663, 3664, 3665,\n",
       "             3667, 3668, 3669, 3670, 3671, 3672, 3673, 3674, 3675, 3676, 3677,\n",
       "             3678, 3679, 3680, 3681, 3682, 3683, 3684],\n",
       "            dtype='int64'),\n",
       " Int64Index([3696, 3706, 3707], dtype='int64'),\n",
       " Int64Index([3803, 3804, 3805, 3806, 3807, 3808, 3809, 3810, 3811, 3812, 3813], dtype='int64'),\n",
       " Int64Index([3844, 3845, 3846, 3847, 3848, 3849, 3850, 3852, 3856, 3857, 3859,\n",
       "             3860, 3861, 3862, 3863, 3864],\n",
       "            dtype='int64'),\n",
       " Int64Index([3970, 3971, 3972, 3973, 3974, 3975, 3976, 3977, 3978, 3979, 3980,\n",
       "             3984, 3985],\n",
       "            dtype='int64'),\n",
       " Int64Index([4278], dtype='int64'),\n",
       " Int64Index([4544], dtype='int64'),\n",
       " Int64Index([4692, 4693, 4694, 4695, 4696, 4703, 4704, 4705, 4706, 4707, 4708,\n",
       "             4709, 4710, 4714, 4715],\n",
       "            dtype='int64'),\n",
       " Int64Index([4855], dtype='int64'),\n",
       " Int64Index([4963, 4964, 4965], dtype='int64'),\n",
       " Int64Index([4995, 4996], dtype='int64'),\n",
       " Int64Index([5089, 5090], dtype='int64'),\n",
       " Int64Index([5122, 5123, 5124, 5125, 5126, 5127], dtype='int64'),\n",
       " Int64Index([5157], dtype='int64'),\n",
       " Int64Index([5201, 5202, 5203, 5204, 5205, 5206, 5207, 5215, 5216], dtype='int64'),\n",
       " Int64Index([5368, 5369, 5370, 5371, 5372, 5373, 5374, 5375, 5376, 5377, 5378,\n",
       "             5385, 5386, 5387, 5388, 5389, 5390, 5391, 5396, 5397, 5398, 5399,\n",
       "             5400, 5401, 5402, 5403, 5404, 5405, 5406, 5407, 5408, 5409, 5410,\n",
       "             5411, 5412, 5413, 5414, 5415, 5416, 5417, 5418, 5419, 5420, 5421,\n",
       "             5422, 5423, 5424, 5425, 5426, 5427, 5428, 5429, 5430, 5431, 5432,\n",
       "             5433, 5434, 5435, 5436, 5443, 5444, 5445, 5446, 5447, 5448, 5449],\n",
       "            dtype='int64'),\n",
       " Int64Index([5527, 5528, 5529, 5530, 5536, 5537, 5538, 5539, 5540, 5541, 5542,\n",
       "             5543, 5552, 5553, 5554, 5555, 5558, 5559, 5567, 5568, 5569, 5570,\n",
       "             5578, 5579, 5580, 5581],\n",
       "            dtype='int64'),\n",
       " Int64Index([5668, 5669, 5674, 5675, 5676, 5677, 5678, 5679, 5680, 5681], dtype='int64'),\n",
       " Int64Index([5697], dtype='int64'),\n",
       " Int64Index([5825, 5826, 5827, 5828, 5829, 5830, 5831, 5832, 5833, 5834, 5835,\n",
       "             5836, 5837, 5838, 5839, 5840, 5841],\n",
       "            dtype='int64'),\n",
       " Int64Index([5869, 5875, 5876], dtype='int64'),\n",
       " Int64Index([5987, 5988, 5989, 5990, 5991, 5998, 5999, 6000, 6001, 6002, 6003,\n",
       "             6013, 6014, 6015, 6016, 6017, 6018, 6019],\n",
       "            dtype='int64'),\n",
       " Int64Index([6145, 6146, 6147, 6148, 6149, 6150, 6151], dtype='int64'),\n",
       " Int64Index([6164, 6165, 6166], dtype='int64'),\n",
       " Int64Index([6230, 6231, 6232, 6233, 6234, 6235, 6236, 6237, 6238, 6239, 6246,\n",
       "             6247, 6248, 6249, 6250, 6251, 6252, 6253, 6254, 6255, 6256, 6257,\n",
       "             6258, 6259, 6260, 6261, 6263, 6265, 6266, 6267, 6268, 6269, 6270,\n",
       "             6271, 6272, 6273, 6274],\n",
       "            dtype='int64'),\n",
       " Int64Index([6301, 6302], dtype='int64'),\n",
       " Int64Index([6363], dtype='int64'),\n",
       " Int64Index([6426, 6427, 6428, 6429, 6430, 6431, 6432, 6433, 6434, 6435, 6436,\n",
       "             6437, 6438, 6439, 6440, 6441, 6442, 6443, 6444, 6445, 6446, 6450,\n",
       "             6451, 6452, 6453, 6454, 6455],\n",
       "            dtype='int64'),\n",
       " Int64Index([6517, 6518, 6519, 6520], dtype='int64'),\n",
       " Int64Index([6544, 6545, 6546, 6547], dtype='int64'),\n",
       " Int64Index([6562, 6563, 6564, 6565, 6566, 6567], dtype='int64'),\n",
       " Int64Index([6596], dtype='int64'),\n",
       " Int64Index([6682, 6683, 6691, 6692, 6693, 6694], dtype='int64'),\n",
       " Int64Index([6712, 6713, 6714, 6715, 6716, 6717, 6718, 6719, 6720, 6721, 6731,\n",
       "             6732, 6733],\n",
       "            dtype='int64'),\n",
       " Int64Index([6854, 6855, 6858, 6859, 6860, 6861], dtype='int64'),\n",
       " Int64Index([6877, 6878], dtype='int64'),\n",
       " Int64Index([7015], dtype='int64'),\n",
       " Int64Index([7171, 7172], dtype='int64'),\n",
       " Int64Index([7224, 7225, 7226, 7227, 7228, 7229], dtype='int64'),\n",
       " Int64Index([7268, 7269, 7270, 7271, 7272, 7273, 7274, 7275, 7279, 7280, 7281,\n",
       "             7282, 7283, 7284, 7285, 7286, 7287, 7288, 7289, 7290, 7291, 7292,\n",
       "             7293, 7294, 7295, 7296, 7297, 7298, 7299, 7300, 7301, 7302, 7303,\n",
       "             7304, 7305, 7306, 7307, 7308, 7309, 7312, 7313, 7314, 7315],\n",
       "            dtype='int64'),\n",
       " Int64Index([7423, 7424, 7425], dtype='int64'),\n",
       " Int64Index([7595, 7596, 7597], dtype='int64'),\n",
       " Int64Index([7821, 7822, 7823, 7824], dtype='int64'),\n",
       " Int64Index([7929], dtype='int64'),\n",
       " Int64Index([8425, 8426, 8435, 8436, 8437, 8438], dtype='int64'),\n",
       " Int64Index([8464], dtype='int64'),\n",
       " Int64Index([8552, 8553, 8554, 8555, 8556, 8557, 8558, 8559, 8560, 8561], dtype='int64'),\n",
       " Int64Index([8573, 8574, 8575, 8576, 8577, 8578, 8579], dtype='int64'),\n",
       " Int64Index([8720, 8721, 8722, 8723, 8733, 8734, 8735, 8736, 8737, 8738, 8739,\n",
       "             8740, 8741, 8742, 8743, 8744, 8745, 8746, 8747, 8748, 8749, 8750,\n",
       "             8751, 8752, 8753, 8756, 8757],\n",
       "            dtype='int64'),\n",
       " Int64Index([8868, 8869, 8876, 8877, 8878, 8879, 8880, 8881, 8882, 8883, 8884,\n",
       "             8886, 8887, 8888, 8889, 8890, 8897, 8898, 8899, 8900, 8901, 8902,\n",
       "             8903],\n",
       "            dtype='int64'),\n",
       " Int64Index([8988, 8989, 8990, 8991, 8992, 8993, 8995, 8996, 8997, 8998, 8999,\n",
       "             9000, 9001, 9002, 9003, 9004, 9005, 9006, 9007, 9008, 9009, 9010,\n",
       "             9011, 9012, 9013, 9014, 9015, 9016, 9026, 9027, 9028, 9029, 9030,\n",
       "             9035, 9036, 9037, 9038, 9039, 9040, 9041, 9042, 9043, 9044, 9045,\n",
       "             9046, 9047, 9048, 9049],\n",
       "            dtype='int64'),\n",
       " Int64Index([9116, 9117, 9118, 9128, 9129], dtype='int64'),\n",
       " Int64Index([9577, 9578, 9579, 9581, 9582, 9583, 9584, 9585, 9586, 9587, 9588,\n",
       "             9589, 9590, 9591, 9592, 9593, 9594, 9595, 9596, 9597, 9598, 9599,\n",
       "             9600, 9601, 9602, 9603, 9604, 9605, 9606, 9607, 9608, 9609, 9610,\n",
       "             9613, 9614],\n",
       "            dtype='int64'),\n",
       " Int64Index([9626, 9627], dtype='int64'),\n",
       " Int64Index([9763, 9764, 9770, 9771], dtype='int64'),\n",
       " Int64Index([10139, 10140, 10141, 10144, 10149, 10150, 10151, 10152, 10153,\n",
       "             10154, 10155, 10156, 10157, 10158, 10159, 10160, 10161, 10162,\n",
       "             10163, 10164, 10165, 10166, 10167, 10168, 10169, 10170, 10171,\n",
       "             10172, 10173, 10174, 10175, 10176, 10181, 10182, 10183, 10184,\n",
       "             10185, 10186, 10187, 10188, 10189, 10190, 10191, 10192, 10193,\n",
       "             10194, 10203],\n",
       "            dtype='int64'),\n",
       " Int64Index([10269, 10270, 10271, 10272, 10276, 10277, 10286], dtype='int64'),\n",
       " Int64Index([10322, 10323, 10324], dtype='int64'),\n",
       " Int64Index([10397, 10398, 10399, 10400, 10401, 10402, 10403, 10404, 10405], dtype='int64'),\n",
       " Int64Index([10420, 10421], dtype='int64'),\n",
       " Int64Index([10442, 10444], dtype='int64'),\n",
       " Int64Index([10459, 10460, 10461, 10462, 10463, 10464], dtype='int64'),\n",
       " Int64Index([10535, 10536, 10537, 10538, 10542, 10543, 10544, 10545, 10546,\n",
       "             10547, 10548, 10549, 10550, 10551, 10552, 10553, 10554, 10555],\n",
       "            dtype='int64'),\n",
       " Int64Index([10627, 10628], dtype='int64'),\n",
       " Int64Index([10992, 10993, 10994, 10995, 10996], dtype='int64'),\n",
       " Int64Index([11012, 11013, 11014, 11015], dtype='int64'),\n",
       " Int64Index([11130, 11138, 11139, 11140, 11141, 11142, 11147, 11148, 11149,\n",
       "             11150, 11151, 11152, 11153, 11158, 11159],\n",
       "            dtype='int64'),\n",
       " Int64Index([11179, 11180, 11181, 11182, 11183, 11184, 11190, 11191, 11192,\n",
       "             11193, 11194, 11195, 11196, 11197, 11198, 11199, 11201, 11202,\n",
       "             11203, 11204, 11205, 11206, 11207, 11208],\n",
       "            dtype='int64'),\n",
       " Int64Index([11221], dtype='int64'),\n",
       " Int64Index([11851, 11852, 11853, 11854, 11855, 11856, 11857, 11858, 11859], dtype='int64'),\n",
       " Int64Index([11883, 11884], dtype='int64'),\n",
       " Int64Index([11898, 11899, 11900, 11901, 11902, 11903, 11904, 11905, 11906,\n",
       "             11907, 11908, 11909, 11919, 11920, 11921, 11922, 11923, 11924,\n",
       "             11925, 11926],\n",
       "            dtype='int64'),\n",
       " Int64Index([11985, 11986, 11987, 11988], dtype='int64'),\n",
       " Int64Index([12043, 12044, 12045, 12046, 12047, 12048, 12049, 12050, 12051,\n",
       "             12052, 12059, 12069, 12070, 12071, 12072, 12073, 12074, 12075,\n",
       "             12076, 12077, 12078],\n",
       "            dtype='int64'),\n",
       " Int64Index([12119, 12120, 12121, 12122], dtype='int64'),\n",
       " Int64Index([12154, 12155, 12156, 12157, 12158, 12159, 12160, 12161, 12162,\n",
       "             12163, 12164, 12165, 12166, 12167],\n",
       "            dtype='int64'),\n",
       " Int64Index([12572, 12573, 12574, 12584, 12585, 12586, 12587, 12588, 12596,\n",
       "             12597, 12598, 12599, 12600, 12601, 12602, 12603, 12604],\n",
       "            dtype='int64'),\n",
       " Int64Index([12741], dtype='int64'),\n",
       " Int64Index([12770, 12771, 12772], dtype='int64'),\n",
       " Int64Index([12784, 12785, 12786, 12787], dtype='int64'),\n",
       " Int64Index([12863, 12864, 12865, 12866, 12867], dtype='int64'),\n",
       " Int64Index([12999], dtype='int64'),\n",
       " Int64Index([13334, 13335, 13336, 13337, 13338, 13339, 13340, 13344, 13345,\n",
       "             13346, 13347, 13348, 13349, 13350],\n",
       "            dtype='int64'),\n",
       " Int64Index([14056, 14057, 14058], dtype='int64'),\n",
       " Int64Index([14140, 14141, 14142, 14143, 14144, 14145, 14146, 14147, 14148,\n",
       "             14149, 14150, 14151],\n",
       "            dtype='int64'),\n",
       " Int64Index([14203], dtype='int64'),\n",
       " Int64Index([14326, 14327, 14328, 14329, 14330, 14331, 14332, 14333, 14334,\n",
       "             14335],\n",
       "            dtype='int64'),\n",
       " Int64Index([14366], dtype='int64'),\n",
       " Int64Index([14525], dtype='int64'),\n",
       " Int64Index([14662], dtype='int64'),\n",
       " Int64Index([15171, 15172, 15173, 15174], dtype='int64'),\n",
       " Int64Index([15504, 15505, 15506], dtype='int64')]"
      ]
     },
     "execution_count": 83,
     "metadata": {},
     "output_type": "execute_result"
    }
   ],
   "source": [
    "list_index_splitted"
   ]
  },
  {
   "cell_type": "code",
   "execution_count": 85,
   "metadata": {},
   "outputs": [],
   "source": [
    "index_2 = []\n",
    "for idx, x in enumerate(list_index_splitted):\n",
    "    if len(x) > 5:\n",
    "        index_2.append(x)\n",
    "    "
   ]
  },
  {
   "cell_type": "code",
   "execution_count": 87,
   "metadata": {},
   "outputs": [
    {
     "data": {
      "text/plain": [
       "54"
      ]
     },
     "execution_count": 87,
     "metadata": {},
     "output_type": "execute_result"
    }
   ],
   "source": [
    "len(index_2)"
   ]
  },
  {
   "cell_type": "code",
   "execution_count": 89,
   "metadata": {},
   "outputs": [
    {
     "data": {
      "text/plain": [
       "Int64Index([234, 237, 238, 239, 244, 245], dtype='int64')"
      ]
     },
     "execution_count": 89,
     "metadata": {},
     "output_type": "execute_result"
    }
   ],
   "source": [
    "index_2[0]"
   ]
  },
  {
   "cell_type": "code",
   "execution_count": 112,
   "metadata": {},
   "outputs": [
    {
     "data": {
      "image/png": "[encoded data removed]",
      "text/plain": [
       "<Figure size 1800x1080 with 1 Axes>"
      ]
     },
     "metadata": {
      "needs_background": "light"
     },
     "output_type": "display_data"
    }
   ],
   "source": [
    "n = 6\n",
    "plot_sensors(df_D161075_anemometer_identification, index_2[n][0], sensors=['Ch1Anem', 'Ch2Anem', 'Ch3Anem', 'Ch4Anem', 'Ch5Anem','Ch6Anem'])"
   ]
  },
  {
   "cell_type": "code",
   "execution_count": 113,
   "metadata": {},
   "outputs": [
    {
     "data": {
      "text/html": [
       "<div>\n",
       "<style scoped>\n",
       "    .dataframe tbody tr th:only-of-type {\n",
       "        vertical-align: middle;\n",
       "    }\n",
       "\n",
       "    .dataframe tbody tr th {\n",
       "        vertical-align: top;\n",
       "    }\n",
       "\n",
       "    .dataframe thead th {\n",
       "        text-align: right;\n",
       "    }\n",
       "</style>\n",
       "<table border=\"1\" class=\"dataframe\">\n",
       "  <thead>\n",
       "    <tr style=\"text-align: right;\">\n",
       "      <th></th>\n",
       "      <th>Timestamp</th>\n",
       "      <th>Ch1Anem</th>\n",
       "      <th>Ch2Anem</th>\n",
       "      <th>Ch3Anem</th>\n",
       "      <th>Ch4Anem</th>\n",
       "      <th>Ch5Anem</th>\n",
       "      <th>Ch6Anem</th>\n",
       "      <th>broken?</th>\n",
       "      <th>Ch1Anem_index</th>\n",
       "    </tr>\n",
       "  </thead>\n",
       "  <tbody>\n",
       "    <tr>\n",
       "      <th>2545</th>\n",
       "      <td>2016-10-02 05:50:00</td>\n",
       "      <td>2.0350</td>\n",
       "      <td>2.6123</td>\n",
       "      <td>2.4269</td>\n",
       "      <td>2.7485</td>\n",
       "      <td>2.6536</td>\n",
       "      <td>2.6451</td>\n",
       "      <td>Ch1Anem,Ch5Anem</td>\n",
       "      <td>1.0</td>\n",
       "    </tr>\n",
       "    <tr>\n",
       "      <th>2546</th>\n",
       "      <td>2016-10-02 06:00:00</td>\n",
       "      <td>2.2286</td>\n",
       "      <td>2.7627</td>\n",
       "      <td>2.4092</td>\n",
       "      <td>2.8319</td>\n",
       "      <td>2.6920</td>\n",
       "      <td>2.7518</td>\n",
       "      <td>Ch1Anem,Ch2Anem,Ch3Anem,Ch4Anem,Ch5Anem</td>\n",
       "      <td>1.0</td>\n",
       "    </tr>\n",
       "    <tr>\n",
       "      <th>2547</th>\n",
       "      <td>2016-10-02 06:10:00</td>\n",
       "      <td>2.3106</td>\n",
       "      <td>2.9294</td>\n",
       "      <td>3.1124</td>\n",
       "      <td>3.0347</td>\n",
       "      <td>3.1320</td>\n",
       "      <td>3.0683</td>\n",
       "      <td>Ch1Anem,Ch2Anem,Ch5Anem</td>\n",
       "      <td>1.0</td>\n",
       "    </tr>\n",
       "    <tr>\n",
       "      <th>2548</th>\n",
       "      <td>2016-10-02 06:20:00</td>\n",
       "      <td>2.8932</td>\n",
       "      <td>2.7288</td>\n",
       "      <td>2.7980</td>\n",
       "      <td>2.7434</td>\n",
       "      <td>2.8093</td>\n",
       "      <td>2.7528</td>\n",
       "      <td>Ch1Anem,Ch2Anem,Ch4Anem,Ch5Anem</td>\n",
       "      <td>1.0</td>\n",
       "    </tr>\n",
       "    <tr>\n",
       "      <th>2549</th>\n",
       "      <td>2016-10-02 06:30:00</td>\n",
       "      <td>2.1789</td>\n",
       "      <td>2.2750</td>\n",
       "      <td>2.3653</td>\n",
       "      <td>2.3572</td>\n",
       "      <td>2.3852</td>\n",
       "      <td>2.3194</td>\n",
       "      <td>Ch1Anem,Ch5Anem</td>\n",
       "      <td>1.0</td>\n",
       "    </tr>\n",
       "    <tr>\n",
       "      <th>2550</th>\n",
       "      <td>2016-10-02 06:40:00</td>\n",
       "      <td>2.1881</td>\n",
       "      <td>2.0745</td>\n",
       "      <td>2.1838</td>\n",
       "      <td>2.1696</td>\n",
       "      <td>2.1355</td>\n",
       "      <td>2.0992</td>\n",
       "      <td>Ch1Anem</td>\n",
       "      <td>1.0</td>\n",
       "    </tr>\n",
       "    <tr>\n",
       "      <th>2551</th>\n",
       "      <td>2016-10-02 06:50:00</td>\n",
       "      <td>2.3906</td>\n",
       "      <td>2.3093</td>\n",
       "      <td>2.2998</td>\n",
       "      <td>2.2991</td>\n",
       "      <td>2.2706</td>\n",
       "      <td>2.2336</td>\n",
       "      <td>Ch1Anem</td>\n",
       "      <td>1.0</td>\n",
       "    </tr>\n",
       "    <tr>\n",
       "      <th>2552</th>\n",
       "      <td>2016-10-02 07:00:00</td>\n",
       "      <td>1.8122</td>\n",
       "      <td>2.1913</td>\n",
       "      <td>2.0821</td>\n",
       "      <td>2.0599</td>\n",
       "      <td>2.1677</td>\n",
       "      <td>2.1250</td>\n",
       "      <td>Ch1Anem</td>\n",
       "      <td>1.0</td>\n",
       "    </tr>\n",
       "    <tr>\n",
       "      <th>2553</th>\n",
       "      <td>2016-10-02 07:10:00</td>\n",
       "      <td>1.7429</td>\n",
       "      <td>2.1585</td>\n",
       "      <td>2.1962</td>\n",
       "      <td>2.1540</td>\n",
       "      <td>2.1651</td>\n",
       "      <td>2.1199</td>\n",
       "      <td>Ch1Anem</td>\n",
       "      <td>1.0</td>\n",
       "    </tr>\n",
       "    <tr>\n",
       "      <th>2554</th>\n",
       "      <td>2016-10-02 07:20:00</td>\n",
       "      <td>1.5362</td>\n",
       "      <td>1.9212</td>\n",
       "      <td>2.0383</td>\n",
       "      <td>1.9916</td>\n",
       "      <td>1.9788</td>\n",
       "      <td>1.9442</td>\n",
       "      <td>Ch1Anem</td>\n",
       "      <td>1.0</td>\n",
       "    </tr>\n",
       "    <tr>\n",
       "      <th>2555</th>\n",
       "      <td>2016-10-02 07:30:00</td>\n",
       "      <td>1.1028</td>\n",
       "      <td>1.4125</td>\n",
       "      <td>1.4639</td>\n",
       "      <td>1.4356</td>\n",
       "      <td>1.4421</td>\n",
       "      <td>1.4206</td>\n",
       "      <td>None</td>\n",
       "      <td>0.0</td>\n",
       "    </tr>\n",
       "    <tr>\n",
       "      <th>2556</th>\n",
       "      <td>2016-10-02 07:40:00</td>\n",
       "      <td>1.1258</td>\n",
       "      <td>1.4058</td>\n",
       "      <td>1.2916</td>\n",
       "      <td>1.5042</td>\n",
       "      <td>1.4774</td>\n",
       "      <td>1.4483</td>\n",
       "      <td>None</td>\n",
       "      <td>0.0</td>\n",
       "    </tr>\n",
       "    <tr>\n",
       "      <th>2557</th>\n",
       "      <td>2016-10-02 07:50:00</td>\n",
       "      <td>1.0874</td>\n",
       "      <td>1.3432</td>\n",
       "      <td>1.3916</td>\n",
       "      <td>1.3754</td>\n",
       "      <td>1.4575</td>\n",
       "      <td>1.4424</td>\n",
       "      <td>None</td>\n",
       "      <td>0.0</td>\n",
       "    </tr>\n",
       "    <tr>\n",
       "      <th>2558</th>\n",
       "      <td>2016-10-02 08:00:00</td>\n",
       "      <td>1.0095</td>\n",
       "      <td>1.2912</td>\n",
       "      <td>1.3239</td>\n",
       "      <td>1.3988</td>\n",
       "      <td>1.4585</td>\n",
       "      <td>1.4393</td>\n",
       "      <td>None</td>\n",
       "      <td>0.0</td>\n",
       "    </tr>\n",
       "    <tr>\n",
       "      <th>2559</th>\n",
       "      <td>2016-10-02 08:10:00</td>\n",
       "      <td>1.3114</td>\n",
       "      <td>1.6578</td>\n",
       "      <td>1.6043</td>\n",
       "      <td>1.6701</td>\n",
       "      <td>1.7140</td>\n",
       "      <td>1.7159</td>\n",
       "      <td>None</td>\n",
       "      <td>0.0</td>\n",
       "    </tr>\n",
       "    <tr>\n",
       "      <th>2560</th>\n",
       "      <td>2016-10-02 08:20:00</td>\n",
       "      <td>1.1846</td>\n",
       "      <td>1.3825</td>\n",
       "      <td>1.2474</td>\n",
       "      <td>1.3471</td>\n",
       "      <td>1.3598</td>\n",
       "      <td>1.3549</td>\n",
       "      <td>None</td>\n",
       "      <td>0.0</td>\n",
       "    </tr>\n",
       "    <tr>\n",
       "      <th>2561</th>\n",
       "      <td>2016-10-02 08:30:00</td>\n",
       "      <td>1.2030</td>\n",
       "      <td>1.2412</td>\n",
       "      <td>1.1746</td>\n",
       "      <td>1.1941</td>\n",
       "      <td>1.2646</td>\n",
       "      <td>1.2733</td>\n",
       "      <td>None</td>\n",
       "      <td>0.0</td>\n",
       "    </tr>\n",
       "    <tr>\n",
       "      <th>2562</th>\n",
       "      <td>2016-10-02 08:40:00</td>\n",
       "      <td>1.0110</td>\n",
       "      <td>1.0388</td>\n",
       "      <td>1.1105</td>\n",
       "      <td>1.1441</td>\n",
       "      <td>1.1059</td>\n",
       "      <td>1.0911</td>\n",
       "      <td>None</td>\n",
       "      <td>0.0</td>\n",
       "    </tr>\n",
       "    <tr>\n",
       "      <th>2563</th>\n",
       "      <td>2016-10-02 08:50:00</td>\n",
       "      <td>1.0109</td>\n",
       "      <td>1.0243</td>\n",
       "      <td>1.0455</td>\n",
       "      <td>1.0532</td>\n",
       "      <td>0.9761</td>\n",
       "      <td>0.9567</td>\n",
       "      <td>None</td>\n",
       "      <td>0.0</td>\n",
       "    </tr>\n",
       "    <tr>\n",
       "      <th>2564</th>\n",
       "      <td>2016-10-02 09:00:00</td>\n",
       "      <td>0.9950</td>\n",
       "      <td>1.0312</td>\n",
       "      <td>0.9955</td>\n",
       "      <td>1.0309</td>\n",
       "      <td>1.0317</td>\n",
       "      <td>1.0008</td>\n",
       "      <td>Ch1Anem</td>\n",
       "      <td>1.0</td>\n",
       "    </tr>\n",
       "  </tbody>\n",
       "</table>\n",
       "</div>"
      ],
      "text/plain": [
       "                Timestamp  Ch1Anem  Ch2Anem  Ch3Anem  Ch4Anem  Ch5Anem  \\\n",
       "2545  2016-10-02 05:50:00   2.0350   2.6123   2.4269   2.7485   2.6536   \n",
       "2546  2016-10-02 06:00:00   2.2286   2.7627   2.4092   2.8319   2.6920   \n",
       "2547  2016-10-02 06:10:00   2.3106   2.9294   3.1124   3.0347   3.1320   \n",
       "2548  2016-10-02 06:20:00   2.8932   2.7288   2.7980   2.7434   2.8093   \n",
       "2549  2016-10-02 06:30:00   2.1789   2.2750   2.3653   2.3572   2.3852   \n",
       "2550  2016-10-02 06:40:00   2.1881   2.0745   2.1838   2.1696   2.1355   \n",
       "2551  2016-10-02 06:50:00   2.3906   2.3093   2.2998   2.2991   2.2706   \n",
       "2552  2016-10-02 07:00:00   1.8122   2.1913   2.0821   2.0599   2.1677   \n",
       "2553  2016-10-02 07:10:00   1.7429   2.1585   2.1962   2.1540   2.1651   \n",
       "2554  2016-10-02 07:20:00   1.5362   1.9212   2.0383   1.9916   1.9788   \n",
       "2555  2016-10-02 07:30:00   1.1028   1.4125   1.4639   1.4356   1.4421   \n",
       "2556  2016-10-02 07:40:00   1.1258   1.4058   1.2916   1.5042   1.4774   \n",
       "2557  2016-10-02 07:50:00   1.0874   1.3432   1.3916   1.3754   1.4575   \n",
       "2558  2016-10-02 08:00:00   1.0095   1.2912   1.3239   1.3988   1.4585   \n",
       "2559  2016-10-02 08:10:00   1.3114   1.6578   1.6043   1.6701   1.7140   \n",
       "2560  2016-10-02 08:20:00   1.1846   1.3825   1.2474   1.3471   1.3598   \n",
       "2561  2016-10-02 08:30:00   1.2030   1.2412   1.1746   1.1941   1.2646   \n",
       "2562  2016-10-02 08:40:00   1.0110   1.0388   1.1105   1.1441   1.1059   \n",
       "2563  2016-10-02 08:50:00   1.0109   1.0243   1.0455   1.0532   0.9761   \n",
       "2564  2016-10-02 09:00:00   0.9950   1.0312   0.9955   1.0309   1.0317   \n",
       "\n",
       "      Ch6Anem                                  broken?  Ch1Anem_index  \n",
       "2545   2.6451                          Ch1Anem,Ch5Anem            1.0  \n",
       "2546   2.7518  Ch1Anem,Ch2Anem,Ch3Anem,Ch4Anem,Ch5Anem            1.0  \n",
       "2547   3.0683                  Ch1Anem,Ch2Anem,Ch5Anem            1.0  \n",
       "2548   2.7528          Ch1Anem,Ch2Anem,Ch4Anem,Ch5Anem            1.0  \n",
       "2549   2.3194                          Ch1Anem,Ch5Anem            1.0  \n",
       "2550   2.0992                                  Ch1Anem            1.0  \n",
       "2551   2.2336                                  Ch1Anem            1.0  \n",
       "2552   2.1250                                  Ch1Anem            1.0  \n",
       "2553   2.1199                                  Ch1Anem            1.0  \n",
       "2554   1.9442                                  Ch1Anem            1.0  \n",
       "2555   1.4206                                     None            0.0  \n",
       "2556   1.4483                                     None            0.0  \n",
       "2557   1.4424                                     None            0.0  \n",
       "2558   1.4393                                     None            0.0  \n",
       "2559   1.7159                                     None            0.0  \n",
       "2560   1.3549                                     None            0.0  \n",
       "2561   1.2733                                     None            0.0  \n",
       "2562   1.0911                                     None            0.0  \n",
       "2563   0.9567                                     None            0.0  \n",
       "2564   1.0008                                  Ch1Anem            1.0  "
      ]
     },
     "execution_count": 113,
     "metadata": {},
     "output_type": "execute_result"
    }
   ],
   "source": [
    "df_D161075_anemometer_identification[index_2[n][0]:index_2[n][0]+20]"
   ]
  },
  {
   "cell_type": "code",
   "execution_count": 97,
   "metadata": {},
   "outputs": [
    {
     "data": {
      "text/plain": [
       "Int64Index([234, 237, 238, 239, 244, 245], dtype='int64')"
      ]
     },
     "execution_count": 97,
     "metadata": {},
     "output_type": "execute_result"
    }
   ],
   "source": [
    "index_2[0]"
   ]
  },
  {
   "cell_type": "code",
   "execution_count": null,
   "metadata": {},
   "outputs": [],
   "source": []
  }
 ],
 "metadata": {
  "kernelspec": {
   "display_name": "Python 3",
   "language": "python",
   "name": "python3"
  },
  "language_info": {
   "codemirror_mode": {
    "name": "ipython",
    "version": 3
   },
   "file_extension": ".py",
   "mimetype": "text/x-python",
   "name": "python",
   "nbconvert_exporter": "python",
   "pygments_lexer": "ipython3",
   "version": "3.6.5"
  }
 },
 "nbformat": 4,
 "nbformat_minor": 2
}
