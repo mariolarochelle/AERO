{
 "cells": [
  {
   "cell_type": "code",
   "execution_count": 1,
   "metadata": {},
   "outputs": [],
   "source": [
    "import pandas as pd\n",
    "import numpy as np\n",
    "from itertools import chain\n",
    "from tqdm import tqdm"
   ]
  },
  {
   "cell_type": "code",
   "execution_count": 2,
   "metadata": {},
   "outputs": [
    {
     "ename": "ModuleNotFoundError",
     "evalue": "No module named 'tqdm'",
     "output_type": "error",
     "traceback": [
      "\u001b[0;31m---------------------------------------------------------------------------\u001b[0m",
      "\u001b[0;31mModuleNotFoundError\u001b[0m                       Traceback (most recent call last)",
      "\u001b[0;32m<ipython-input-2-612f954c906f>\u001b[0m in \u001b[0;36m<module>\u001b[0;34m()\u001b[0m\n\u001b[0;32m----> 1\u001b[0;31m \u001b[0;32mfrom\u001b[0m \u001b[0msensor_analysis_functions\u001b[0m \u001b[0;32mimport\u001b[0m \u001b[0mfault_detection\u001b[0m\u001b[0;34m,\u001b[0m \u001b[0mplotting_anem_parameter_tunning\u001b[0m\u001b[0;34m,\u001b[0m \u001b[0manemometer_identification\u001b[0m\u001b[0;34m,\u001b[0m \u001b[0mplot_sensors\u001b[0m\u001b[0;34m,\u001b[0m \u001b[0mget_index_list\u001b[0m\u001b[0;34m,\u001b[0m \u001b[0msplit_kneighbor_indexes\u001b[0m\u001b[0;34m,\u001b[0m \u001b[0mgenerate_dashboard\u001b[0m\u001b[0;34m\u001b[0m\u001b[0m\n\u001b[0m",
      "\u001b[0;32m~/Documents/Academic Research/AERO/Working/Franco/Analysis/sensor_analysis_functions.py\u001b[0m in \u001b[0;36m<module>\u001b[0;34m()\u001b[0m\n\u001b[1;32m     27\u001b[0m \u001b[0;32mimport\u001b[0m \u001b[0mitertools\u001b[0m\u001b[0;34m\u001b[0m\u001b[0m\n\u001b[1;32m     28\u001b[0m \u001b[0;32mimport\u001b[0m \u001b[0mos\u001b[0m\u001b[0;34m\u001b[0m\u001b[0m\n\u001b[0;32m---> 29\u001b[0;31m \u001b[0;32mfrom\u001b[0m \u001b[0mtqdm\u001b[0m \u001b[0;32mimport\u001b[0m \u001b[0mtqdm\u001b[0m\u001b[0;34m\u001b[0m\u001b[0m\n\u001b[0m\u001b[1;32m     30\u001b[0m \u001b[0;32mfrom\u001b[0m \u001b[0moperator\u001b[0m \u001b[0;32mimport\u001b[0m \u001b[0mitemgetter\u001b[0m\u001b[0;34m\u001b[0m\u001b[0m\n\u001b[1;32m     31\u001b[0m \u001b[0;32mfrom\u001b[0m \u001b[0mitertools\u001b[0m \u001b[0;32mimport\u001b[0m \u001b[0;34m*\u001b[0m\u001b[0;34m\u001b[0m\u001b[0m\n",
      "\u001b[0;31mModuleNotFoundError\u001b[0m: No module named 'tqdm'"
     ]
    }
   ],
   "source": [
    "from sensor_analysis_functions import fault_detection, plotting_anem_parameter_tunning, anemometer_identification, plot_sensors, get_index_list, split_kneighbor_indexes, generate_dashboard"
   ]
  },
  {
   "cell_type": "code",
   "execution_count": 3,
   "metadata": {},
   "outputs": [],
   "source": [
    "df_vaquerias = pd.read_csv('../Cleaner/data/000960_Vaquerias,_Jalisco_meas_2017.09.04-2017.10.03.txt_data_cleaned.csv', index_col=0)\n",
    "df_D161075 = pd.read_csv('../Cleaner/data/D161075_2016_data.csv', index_col=0)"
   ]
  },
  {
   "cell_type": "code",
   "execution_count": 4,
   "metadata": {},
   "outputs": [],
   "source": [
    "#df_vaquerias_fault_detection = fault_detection(df_vaquerias, sensor='anem', correlation_window=10, ratio_th = 10, correlation_th= .7)\n",
    "#df_vaquerias_anemometer_identification = anemometer_identification(df_vaquerias_fault_detection)"
   ]
  },
  {
   "cell_type": "code",
   "execution_count": 8,
   "metadata": {},
   "outputs": [
    {
     "name": "stderr",
     "output_type": "stream",
     "text": [
      "100%|██████████| 2057/2057 [00:04<00:00, 507.13it/s]\n"
     ]
    }
   ],
   "source": [
    "# Slice de las primeras 7 columnas para no agarrar las columnas con los min y std\n",
    "df_D161075_fault_detection = fault_detection(df_D161075.iloc[:, :7], sensor='anem', correlation_window=3, ratio_th = 10, correlation_th= .5)\n",
    "df_D161075_anemometer_identification = anemometer_identification(df_D161075_fault_detection)"
   ]
  },
  {
   "cell_type": "code",
   "execution_count": 9,
   "metadata": {},
   "outputs": [],
   "source": [
    "df_D161075_redundant_sensors = {\n",
    "    'Ch1Anem': 'Ch2Anem',\n",
    "    'Ch2Anem': 'Ch1Anem',\n",
    "    'Ch3Anem': 'Ch4Anem',\n",
    "    'Ch4Anem': 'Ch3Anem',\n",
    "    'Ch5Anem': 'Ch6Anem',\n",
    "    'Ch6Anem': 'Ch5Anem',\n",
    "}"
   ]
  },
  {
   "cell_type": "code",
   "execution_count": 11,
   "metadata": {},
   "outputs": [
    {
     "name": "stdout",
     "output_type": "stream",
     "text": [
      "Already exists...\n"
     ]
    },
    {
     "name": "stderr",
     "output_type": "stream",
     "text": [
      "100%|██████████| 29/29 [00:01<00:00, 18.03it/s]\n",
      "100%|██████████| 19/19 [00:00<00:00, 24.98it/s]\n",
      "100%|██████████| 7/7 [00:00<00:00, 42.54it/s]\n",
      "100%|██████████| 4/4 [00:00<00:00, 53.48it/s]\n",
      "100%|██████████| 16/16 [00:00<00:00, 29.47it/s]\n",
      "100%|██████████| 13/13 [00:00<00:00, 40.44it/s]\n",
      "0it [00:00, ?it/s]\n",
      "0it [00:00, ?it/s]\n",
      "0it [00:00, ?it/s]\n",
      "0it [00:00, ?it/s]\n",
      "0it [00:00, ?it/s]\n",
      "0it [00:00, ?it/s]\n"
     ]
    }
   ],
   "source": [
    "df_D161075_anemometer_identification.name = 'D161075'\n",
    "generate_dashboard(df_D161075_anemometer_identification, redundance_dict=df_D161075_redundant_sensors)"
   ]
  },
  {
   "cell_type": "code",
   "execution_count": 16,
   "metadata": {},
   "outputs": [],
   "source": [
    "df_vaquerias_redundant_sensors = {\n",
    "    'Ch1Anem': 'Ch2Anem',\n",
    "    'Ch2Anem': 'Ch1Anem',\n",
    "    'Ch3Anem': 'Ch2Anem',\n",
    "    'Ch4Anem': 'Ch5Anem',\n",
    "    'Ch5Anem': 'Ch4Anem',\n",
    "    'Ch6Anem': 'Ch5Anem',\n",
    "}"
   ]
  },
  {
   "cell_type": "code",
   "execution_count": 9,
   "metadata": {},
   "outputs": [
    {
     "name": "stderr",
     "output_type": "stream",
     "text": [
      "100%|██████████| 10/10 [00:00<00:00, 41.09it/s]\n",
      "100%|██████████| 74/74 [00:06<00:00,  6.81it/s]\n",
      "100%|██████████| 52/52 [00:03<00:00, 15.50it/s]\n",
      "100%|██████████| 63/63 [00:04<00:00,  7.98it/s]\n",
      "100%|██████████| 50/50 [00:03<00:00, 10.52it/s]\n",
      "100%|██████████| 69/69 [00:05<00:00,  7.07it/s]\n"
     ]
    }
   ],
   "source": [
    "df_vaquerias_anemometer_identification.name = 'Vaquerias'\n",
    "generate_dashboard(df_vaquerias_anemometer_identification, redundance_dict=df_vaquerias_redundant_sensors)"
   ]
  },
  {
   "cell_type": "code",
   "execution_count": 29,
   "metadata": {},
   "outputs": [],
   "source": [
    "def anem_parameter_tunning(df, ch_anem, true_positive_list, ratio_range=30, correlation_range=10, correlation_window_range=10):\n",
    "    \n",
    "    df_to_tunning = df[df.columns[df.columns.str.contains('Anem')]].copy()\n",
    "\n",
    "    idx = 0\n",
    "    \n",
    "    for ratio in range(2, ratio_range):\n",
    "        for correlation in range(1, correlation_range):\n",
    "            \n",
    "            correlation = round(correlation *.1, 2)\n",
    "            \n",
    "            for window in range(1, correlation_window_range):\n",
    "                \n",
    "                df_fault_detection = fault_detection(df_to_tunning, sensor='anem', correlation_window=window, ratio_th=ratio, correlation_th=correlation)\n",
    "\n",
    "                df_anem_filtered = anemometer_identification(df_fault_detection)\n",
    "\n",
    "                indexes = get_index_list(df_anem_filtered, ch_anem)\n",
    "\n",
    "                indexes_splitted = split_kneighbor_indexes(indexes, 12)\n",
    "                \n",
    "                \n",
    "                n_true_positive = 0\n",
    "                for index in indexes_splitted:\n",
    "                    for true_positive in true_positive_list:\n",
    "                        if any(i in true_positive for i in index):\n",
    "                            n_true_positive += 1\n",
    "                \n",
    "                if n_true_positive >= len(true_positive_list) - 1:\n",
    "                    print(f\"Correlation: {correlation}\\nCorrelation window: {window}\\nRatio: {ratio}\\nDetections: {len(split_kneighbor_indexes(indexes, 12))}\\nTrue Positives: {n_true_positive}\")"
   ]
  },
  {
   "cell_type": "code",
   "execution_count": 12,
   "metadata": {},
   "outputs": [],
   "source": [
    "indexes = split_kneighbor_indexes(get_index_list(df_D161075_anemometer_identification, 'Ch1Anem'), 12)"
   ]
  },
  {
   "cell_type": "code",
   "execution_count": 13,
   "metadata": {},
   "outputs": [
    {
     "name": "stdout",
     "output_type": "stream",
     "text": [
      "167\n"
     ]
    }
   ],
   "source": [
    "print(indexes[0][0])"
   ]
  },
  {
   "cell_type": "code",
   "execution_count": 39,
   "metadata": {},
   "outputs": [
    {
     "data": {
      "text/html": [
       "<div>\n",
       "<style scoped>\n",
       "    .dataframe tbody tr th:only-of-type {\n",
       "        vertical-align: middle;\n",
       "    }\n",
       "\n",
       "    .dataframe tbody tr th {\n",
       "        vertical-align: top;\n",
       "    }\n",
       "\n",
       "    .dataframe thead th {\n",
       "        text-align: right;\n",
       "    }\n",
       "</style>\n",
       "<table border=\"1\" class=\"dataframe\">\n",
       "  <thead>\n",
       "    <tr style=\"text-align: right;\">\n",
       "      <th></th>\n",
       "      <th>Ch1Anem</th>\n",
       "      <th>Ch2Anem</th>\n",
       "      <th>Timestamp</th>\n",
       "    </tr>\n",
       "  </thead>\n",
       "  <tbody>\n",
       "    <tr>\n",
       "      <th>226</th>\n",
       "      <td>7.9644</td>\n",
       "      <td>8.0051</td>\n",
       "      <td>2016-09-16 03:20:00</td>\n",
       "    </tr>\n",
       "    <tr>\n",
       "      <th>227</th>\n",
       "      <td>7.9782</td>\n",
       "      <td>8.0326</td>\n",
       "      <td>2016-09-16 03:30:00</td>\n",
       "    </tr>\n",
       "    <tr>\n",
       "      <th>228</th>\n",
       "      <td>7.8391</td>\n",
       "      <td>7.8884</td>\n",
       "      <td>2016-09-16 03:40:00</td>\n",
       "    </tr>\n",
       "    <tr>\n",
       "      <th>229</th>\n",
       "      <td>8.0629</td>\n",
       "      <td>8.1198</td>\n",
       "      <td>2016-09-16 03:50:00</td>\n",
       "    </tr>\n",
       "  </tbody>\n",
       "</table>\n",
       "</div>"
      ],
      "text/plain": [
       "     Ch1Anem  Ch2Anem            Timestamp\n",
       "226   7.9644   8.0051  2016-09-16 03:20:00\n",
       "227   7.9782   8.0326  2016-09-16 03:30:00\n",
       "228   7.8391   7.8884  2016-09-16 03:40:00\n",
       "229   8.0629   8.1198  2016-09-16 03:50:00"
      ]
     },
     "execution_count": 39,
     "metadata": {},
     "output_type": "execute_result"
    }
   ],
   "source": [
    "#df_D161075_fault_detection.loc[indexes[0][0]-10: indexes[0][0], 'Ch1Anem']\n",
    "idx = 1\n",
    "\n",
    "df_D161075_fault_detection.loc[indexes[idx][0]-3: indexes[idx][0], ['Ch1Anem','Ch2Anem', 'Timestamp']]#.plot()"
   ]
  },
  {
   "cell_type": "code",
   "execution_count": 41,
   "metadata": {},
   "outputs": [
    {
     "data": {
      "text/plain": [
       "array([[1.        , 0.99768784],\n",
       "       [0.99768784, 1.        ]])"
      ]
     },
     "execution_count": 41,
     "metadata": {},
     "output_type": "execute_result"
    }
   ],
   "source": [
    "np.corrcoef(df_D161075_fault_detection.loc[indexes[idx][0]-3: indexes[idx][0], 'Ch1Anem'].values, df_D161075_fault_detection.loc[indexes[idx][0]-3: indexes[idx][0], 'Ch2Anem'].values)"
   ]
  },
  {
   "cell_type": "code",
   "execution_count": 42,
   "metadata": {},
   "outputs": [],
   "source": [
    "ch1_anom = df_D161075_fault_detection.loc[indexes[idx][0] - 3:indexes[idx][0], 'Ch1Anem'].copy()\n",
    "ch2_anom = df_D161075_fault_detection.loc[indexes[idx][0] - 3:indexes[idx][0], 'Ch2Anem'].copy()"
   ]
  },
  {
   "cell_type": "code",
   "execution_count": 43,
   "metadata": {},
   "outputs": [
    {
     "data": {
      "text/plain": [
       "array([[1.        , 0.99768784],\n",
       "       [0.99768784, 1.        ]])"
      ]
     },
     "execution_count": 43,
     "metadata": {},
     "output_type": "execute_result"
    }
   ],
   "source": [
    "np.corrcoef(ch1_anom, ch2_anom)"
   ]
  },
  {
   "cell_type": "code",
   "execution_count": 49,
   "metadata": {},
   "outputs": [
    {
     "data": {
      "text/html": [
       "<div>\n",
       "<style scoped>\n",
       "    .dataframe tbody tr th:only-of-type {\n",
       "        vertical-align: middle;\n",
       "    }\n",
       "\n",
       "    .dataframe tbody tr th {\n",
       "        vertical-align: top;\n",
       "    }\n",
       "\n",
       "    .dataframe thead th {\n",
       "        text-align: right;\n",
       "    }\n",
       "</style>\n",
       "<table border=\"1\" class=\"dataframe\">\n",
       "  <thead>\n",
       "    <tr style=\"text-align: right;\">\n",
       "      <th></th>\n",
       "      <th>Ch1Anem</th>\n",
       "      <th>Ch1AnemVSCh2Anem_ratio*</th>\n",
       "      <th>Ch1AnemVSCh2Anem_ratio*_anomaly</th>\n",
       "      <th>Ch1AnemVSCh2Anem_correlation*</th>\n",
       "      <th>Ch1AnemVSCh2Anem_correlation*_anomaly</th>\n",
       "      <th>Ch1AnemVSCh3Anem_ratio*</th>\n",
       "      <th>Ch1AnemVSCh3Anem_ratio*_anomaly</th>\n",
       "      <th>Ch1AnemVSCh3Anem_correlation*</th>\n",
       "      <th>Ch1AnemVSCh3Anem_correlation*_anomaly</th>\n",
       "      <th>Ch1AnemVSCh4Anem_ratio*</th>\n",
       "      <th>Ch1AnemVSCh4Anem_ratio*_anomaly</th>\n",
       "      <th>Ch1AnemVSCh4Anem_correlation*</th>\n",
       "      <th>Ch1AnemVSCh4Anem_correlation*_anomaly</th>\n",
       "      <th>Ch1AnemVSCh5Anem_ratio*</th>\n",
       "      <th>Ch1AnemVSCh5Anem_ratio*_anomaly</th>\n",
       "      <th>Ch1AnemVSCh5Anem_correlation*</th>\n",
       "      <th>Ch1AnemVSCh5Anem_correlation*_anomaly</th>\n",
       "      <th>Ch1AnemVSCh6Anem_ratio*</th>\n",
       "      <th>Ch1AnemVSCh6Anem_ratio*_anomaly</th>\n",
       "      <th>Ch1AnemVSCh6Anem_correlation*</th>\n",
       "      <th>Ch1AnemVSCh6Anem_correlation*_anomaly</th>\n",
       "    </tr>\n",
       "  </thead>\n",
       "  <tbody>\n",
       "    <tr>\n",
       "      <th>229</th>\n",
       "      <td>8.0629</td>\n",
       "      <td>0.992992</td>\n",
       "      <td>0</td>\n",
       "      <td>0.997688</td>\n",
       "      <td>0</td>\n",
       "      <td>1.042109</td>\n",
       "      <td>0</td>\n",
       "      <td>-0.031252</td>\n",
       "      <td>1</td>\n",
       "      <td>1.03254</td>\n",
       "      <td>0</td>\n",
       "      <td>-0.033701</td>\n",
       "      <td>1</td>\n",
       "      <td>1.17499</td>\n",
       "      <td>0</td>\n",
       "      <td>-0.299379</td>\n",
       "      <td>1</td>\n",
       "      <td>1.165782</td>\n",
       "      <td>0</td>\n",
       "      <td>-0.288288</td>\n",
       "      <td>1</td>\n",
       "    </tr>\n",
       "  </tbody>\n",
       "</table>\n",
       "</div>"
      ],
      "text/plain": [
       "     Ch1Anem  Ch1AnemVSCh2Anem_ratio*  Ch1AnemVSCh2Anem_ratio*_anomaly  \\\n",
       "229   8.0629                 0.992992                                0   \n",
       "\n",
       "     Ch1AnemVSCh2Anem_correlation*  Ch1AnemVSCh2Anem_correlation*_anomaly  \\\n",
       "229                       0.997688                                      0   \n",
       "\n",
       "     Ch1AnemVSCh3Anem_ratio*  Ch1AnemVSCh3Anem_ratio*_anomaly  \\\n",
       "229                 1.042109                                0   \n",
       "\n",
       "     Ch1AnemVSCh3Anem_correlation*  Ch1AnemVSCh3Anem_correlation*_anomaly  \\\n",
       "229                      -0.031252                                      1   \n",
       "\n",
       "     Ch1AnemVSCh4Anem_ratio*  Ch1AnemVSCh4Anem_ratio*_anomaly  \\\n",
       "229                  1.03254                                0   \n",
       "\n",
       "     Ch1AnemVSCh4Anem_correlation*  Ch1AnemVSCh4Anem_correlation*_anomaly  \\\n",
       "229                      -0.033701                                      1   \n",
       "\n",
       "     Ch1AnemVSCh5Anem_ratio*  Ch1AnemVSCh5Anem_ratio*_anomaly  \\\n",
       "229                  1.17499                                0   \n",
       "\n",
       "     Ch1AnemVSCh5Anem_correlation*  Ch1AnemVSCh5Anem_correlation*_anomaly  \\\n",
       "229                      -0.299379                                      1   \n",
       "\n",
       "     Ch1AnemVSCh6Anem_ratio*  Ch1AnemVSCh6Anem_ratio*_anomaly  \\\n",
       "229                 1.165782                                0   \n",
       "\n",
       "     Ch1AnemVSCh6Anem_correlation*  Ch1AnemVSCh6Anem_correlation*_anomaly  \n",
       "229                      -0.288288                                      1  "
      ]
     },
     "execution_count": 49,
     "metadata": {},
     "output_type": "execute_result"
    }
   ],
   "source": [
    "cols_ch1 = df_D161075_fault_detection.columns[df_D161075_fault_detection.columns.str.contains('Ch1Anem')]\n",
    "df_D161075_fault_detection.loc[indexes[idx][0]: indexes[idx][0], cols_ch1]"
   ]
  },
  {
   "cell_type": "code",
   "execution_count": 57,
   "metadata": {},
   "outputs": [
    {
     "data": {
      "text/plain": [
       "<matplotlib.axes._subplots.AxesSubplot at 0x1d080879e80>"
      ]
     },
     "execution_count": 57,
     "metadata": {},
     "output_type": "execute_result"
    },
    {
     "data": {
      "image/png": "[encoded data removed]",
      "text/plain": [
       "<Figure size 1440x1080 with 1 Axes>"
      ]
     },
     "metadata": {
      "needs_background": "light"
     },
     "output_type": "display_data"
    }
   ],
   "source": [
    "df_D161075_fault_detection.loc[indexes[idx][0]-3: indexes[idx][0], ['Ch1Anem', 'Ch2Anem', 'Ch3Anem', 'Ch4Anem', 'Ch5Anem', 'Ch6Anem']].plot(figsize=(20,15))"
   ]
  },
  {
   "cell_type": "code",
   "execution_count": null,
   "metadata": {},
   "outputs": [],
   "source": []
  },
  {
   "cell_type": "code",
   "execution_count": null,
   "metadata": {},
   "outputs": [],
   "source": []
  },
  {
   "cell_type": "code",
   "execution_count": null,
   "metadata": {},
   "outputs": [],
   "source": []
  },
  {
   "cell_type": "code",
   "execution_count": null,
   "metadata": {},
   "outputs": [],
   "source": []
  },
  {
   "cell_type": "code",
   "execution_count": null,
   "metadata": {},
   "outputs": [],
   "source": []
  },
  {
   "cell_type": "code",
   "execution_count": null,
   "metadata": {},
   "outputs": [],
   "source": []
  },
  {
   "cell_type": "code",
   "execution_count": null,
   "metadata": {},
   "outputs": [],
   "source": []
  },
  {
   "cell_type": "code",
   "execution_count": null,
   "metadata": {},
   "outputs": [],
   "source": []
  },
  {
   "cell_type": "code",
   "execution_count": null,
   "metadata": {},
   "outputs": [],
   "source": []
  },
  {
   "cell_type": "code",
   "execution_count": null,
   "metadata": {},
   "outputs": [],
   "source": []
  },
  {
   "cell_type": "code",
   "execution_count": null,
   "metadata": {},
   "outputs": [],
   "source": []
  },
  {
   "cell_type": "code",
   "execution_count": null,
   "metadata": {},
   "outputs": [],
   "source": []
  },
  {
   "cell_type": "code",
   "execution_count": 25,
   "metadata": {},
   "outputs": [],
   "source": [
    "true_positive_list = [indexes[1], indexes[6], indexes[7], indexes[9], indexes[10], indexes[13], indexes[18]]"
   ]
  },
  {
   "cell_type": "code",
   "execution_count": 32,
   "metadata": {},
   "outputs": [
    {
     "data": {
      "text/plain": [
       "7"
      ]
     },
     "execution_count": 32,
     "metadata": {},
     "output_type": "execute_result"
    }
   ],
   "source": [
    "len(true_positive_list)"
   ]
  },
  {
   "cell_type": "code",
   "execution_count": 30,
   "metadata": {},
   "outputs": [
    {
     "name": "stderr",
     "output_type": "stream",
     "text": [
      "100%|██████████| 103/103 [00:00<00:00, 552.17it/s]\n",
      "D:\\Program Files (x86)\\Anaconda\\lib\\site-packages\\pandas\\core\\indexing.py:1472: FutureWarning:\n",
      "\n",
      "\n",
      "Passing list-likes to .loc or [] with any missing label will raise\n",
      "KeyError in the future, you can use .reindex() as an alternative.\n",
      "\n",
      "See the documentation here:\n",
      "https://pandas.pydata.org/pandas-docs/stable/indexing.html#deprecate-loc-reindex-listlike\n",
      "\n",
      "100%|██████████| 3178/3178 [00:05<00:00, 577.55it/s]\n"
     ]
    },
    {
     "name": "stdout",
     "output_type": "stream",
     "text": [
      "Correlation: 0.1\n",
      "Correlation window: 2\n",
      "Ratio: 2\n",
      "Detections: 60\n",
      "True Positives: 7\n"
     ]
    },
    {
     "name": "stderr",
     "output_type": "stream",
     "text": [
      "100%|██████████| 1801/1801 [00:02<00:00, 616.03it/s]\n"
     ]
    },
    {
     "name": "stdout",
     "output_type": "stream",
     "text": [
      "Correlation: 0.1\n",
      "Correlation window: 3\n",
      "Ratio: 2\n",
      "Detections: 21\n",
      "True Positives: 6\n"
     ]
    },
    {
     "name": "stderr",
     "output_type": "stream",
     "text": [
      "100%|██████████| 1217/1217 [00:02<00:00, 600.24it/s]\n",
      "100%|██████████| 1007/1007 [00:01<00:00, 532.18it/s]\n",
      "100%|██████████| 888/888 [00:01<00:00, 564.96it/s]\n",
      "100%|██████████| 801/801 [00:01<00:00, 638.43it/s]\n",
      "100%|██████████| 735/735 [00:01<00:00, 533.64it/s]\n",
      "100%|██████████| 689/689 [00:01<00:00, 537.62it/s]\n",
      "100%|██████████| 636/636 [00:01<00:00, 487.17it/s]\n",
      "100%|██████████| 103/103 [00:00<00:00, 552.28it/s]\n",
      "100%|██████████| 3178/3178 [00:05<00:00, 549.96it/s]\n"
     ]
    },
    {
     "name": "stdout",
     "output_type": "stream",
     "text": [
      "Correlation: 0.2\n",
      "Correlation window: 2\n",
      "Ratio: 2\n",
      "Detections: 60\n",
      "True Positives: 7\n"
     ]
    },
    {
     "name": "stderr",
     "output_type": "stream",
     "text": [
      "100%|██████████| 1949/1949 [00:03<00:00, 590.93it/s]\n"
     ]
    },
    {
     "name": "stdout",
     "output_type": "stream",
     "text": [
      "Correlation: 0.2\n",
      "Correlation window: 3\n",
      "Ratio: 2\n",
      "Detections: 23\n",
      "True Positives: 6\n"
     ]
    },
    {
     "name": "stderr",
     "output_type": "stream",
     "text": [
      "100%|██████████| 1390/1390 [00:02<00:00, 581.39it/s]\n",
      "100%|██████████| 1167/1167 [00:01<00:00, 605.10it/s]\n",
      "100%|██████████| 1024/1024 [00:01<00:00, 615.34it/s]\n",
      "100%|██████████| 948/948 [00:01<00:00, 598.05it/s]\n",
      "100%|██████████| 876/876 [00:01<00:00, 612.80it/s]\n",
      "100%|██████████| 823/823 [00:01<00:00, 604.18it/s]\n",
      "100%|██████████| 786/786 [00:01<00:00, 611.36it/s]\n",
      "100%|██████████| 103/103 [00:00<00:00, 529.58it/s]\n",
      "100%|██████████| 3178/3178 [00:05<00:00, 556.98it/s]\n"
     ]
    },
    {
     "name": "stdout",
     "output_type": "stream",
     "text": [
      "Correlation: 0.3\n",
      "Correlation window: 2\n",
      "Ratio: 2\n",
      "Detections: 60\n",
      "True Positives: 7\n"
     ]
    },
    {
     "name": "stderr",
     "output_type": "stream",
     "text": [
      "100%|██████████| 2136/2136 [00:03<00:00, 573.63it/s]\n"
     ]
    },
    {
     "name": "stdout",
     "output_type": "stream",
     "text": [
      "Correlation: 0.3\n",
      "Correlation window: 3\n",
      "Ratio: 2\n",
      "Detections: 25\n",
      "True Positives: 6\n"
     ]
    },
    {
     "name": "stderr",
     "output_type": "stream",
     "text": [
      "100%|██████████| 1579/1579 [00:03<00:00, 522.37it/s]\n",
      "100%|██████████| 1360/1360 [00:02<00:00, 560.74it/s]\n",
      "100%|██████████| 1207/1207 [00:02<00:00, 598.45it/s]\n",
      "100%|██████████| 1125/1125 [00:01<00:00, 604.83it/s]\n",
      "100%|██████████| 1051/1051 [00:01<00:00, 610.66it/s]\n",
      "100%|██████████| 981/981 [00:01<00:00, 522.99it/s]\n",
      "100%|██████████| 933/933 [00:01<00:00, 589.81it/s]\n",
      "100%|██████████| 103/103 [00:00<00:00, 555.54it/s]\n",
      "100%|██████████| 3178/3178 [00:05<00:00, 563.17it/s]\n"
     ]
    },
    {
     "name": "stdout",
     "output_type": "stream",
     "text": [
      "Correlation: 0.4\n",
      "Correlation window: 2\n",
      "Ratio: 2\n",
      "Detections: 60\n",
      "True Positives: 7\n"
     ]
    },
    {
     "name": "stderr",
     "output_type": "stream",
     "text": [
      "100%|██████████| 2325/2325 [00:03<00:00, 591.03it/s]\n"
     ]
    },
    {
     "name": "stdout",
     "output_type": "stream",
     "text": [
      "Correlation: 0.4\n",
      "Correlation window: 3\n",
      "Ratio: 2\n",
      "Detections: 30\n",
      "True Positives: 6\n"
     ]
    },
    {
     "name": "stderr",
     "output_type": "stream",
     "text": [
      "100%|██████████| 1811/1811 [00:03<00:00, 583.14it/s]\n",
      "100%|██████████| 1569/1569 [00:02<00:00, 605.76it/s]\n",
      "100%|██████████| 1418/1418 [00:02<00:00, 610.84it/s]\n",
      "100%|██████████| 1299/1299 [00:02<00:00, 608.79it/s]\n"
     ]
    },
    {
     "name": "stdout",
     "output_type": "stream",
     "text": [
      "Correlation: 0.4\n",
      "Correlation window: 7\n",
      "Ratio: 2\n",
      "Detections: 23\n",
      "True Positives: 7\n"
     ]
    },
    {
     "name": "stderr",
     "output_type": "stream",
     "text": [
      "100%|██████████| 1222/1222 [00:01<00:00, 623.29it/s]\n"
     ]
    },
    {
     "name": "stdout",
     "output_type": "stream",
     "text": [
      "Correlation: 0.4\n",
      "Correlation window: 8\n",
      "Ratio: 2\n",
      "Detections: 19\n",
      "True Positives: 6\n"
     ]
    },
    {
     "name": "stderr",
     "output_type": "stream",
     "text": [
      "100%|██████████| 1184/1184 [00:01<00:00, 617.12it/s]\n",
      "100%|██████████| 1150/1150 [00:01<00:00, 623.40it/s]\n",
      "100%|██████████| 103/103 [00:00<00:00, 558.58it/s]\n",
      "100%|██████████| 3178/3178 [00:05<00:00, 568.98it/s]\n"
     ]
    },
    {
     "name": "stdout",
     "output_type": "stream",
     "text": [
      "Correlation: 0.5\n",
      "Correlation window: 2\n",
      "Ratio: 2\n",
      "Detections: 60\n",
      "True Positives: 7\n"
     ]
    },
    {
     "name": "stderr",
     "output_type": "stream",
     "text": [
      "100%|██████████| 2570/2570 [00:04<00:00, 591.87it/s]\n"
     ]
    },
    {
     "name": "stdout",
     "output_type": "stream",
     "text": [
      "Correlation: 0.5\n",
      "Correlation window: 3\n",
      "Ratio: 2\n",
      "Detections: 36\n",
      "True Positives: 7\n"
     ]
    },
    {
     "name": "stderr",
     "output_type": "stream",
     "text": [
      "100%|██████████| 2107/2107 [00:03<00:00, 592.44it/s]\n"
     ]
    },
    {
     "name": "stdout",
     "output_type": "stream",
     "text": [
      "Correlation: 0.5\n",
      "Correlation window: 4\n",
      "Ratio: 2\n",
      "Detections: 33\n",
      "True Positives: 6\n"
     ]
    },
    {
     "name": "stderr",
     "output_type": "stream",
     "text": [
      "100%|██████████| 1856/1856 [00:03<00:00, 596.66it/s]\n"
     ]
    },
    {
     "name": "stdout",
     "output_type": "stream",
     "text": [
      "Correlation: 0.5\n",
      "Correlation window: 5\n",
      "Ratio: 2\n",
      "Detections: 33\n",
      "True Positives: 6\n"
     ]
    },
    {
     "name": "stderr",
     "output_type": "stream",
     "text": [
      "100%|██████████| 1685/1685 [00:02<00:00, 592.32it/s]\n"
     ]
    },
    {
     "name": "stdout",
     "output_type": "stream",
     "text": [
      "Correlation: 0.5\n",
      "Correlation window: 6\n",
      "Ratio: 2\n",
      "Detections: 29\n",
      "True Positives: 6\n"
     ]
    },
    {
     "name": "stderr",
     "output_type": "stream",
     "text": [
      "100%|██████████| 1573/1573 [00:02<00:00, 606.67it/s]\n"
     ]
    },
    {
     "name": "stdout",
     "output_type": "stream",
     "text": [
      "Correlation: 0.5\n",
      "Correlation window: 7\n",
      "Ratio: 2\n",
      "Detections: 30\n",
      "True Positives: 7\n"
     ]
    },
    {
     "name": "stderr",
     "output_type": "stream",
     "text": [
      "100%|██████████| 1502/1502 [00:02<00:00, 604.36it/s]\n"
     ]
    },
    {
     "name": "stdout",
     "output_type": "stream",
     "text": [
      "Correlation: 0.5\n",
      "Correlation window: 8\n",
      "Ratio: 2\n",
      "Detections: 27\n",
      "True Positives: 7\n"
     ]
    },
    {
     "name": "stderr",
     "output_type": "stream",
     "text": [
      "100%|██████████| 1458/1458 [00:02<00:00, 607.97it/s]\n"
     ]
    },
    {
     "name": "stdout",
     "output_type": "stream",
     "text": [
      "Correlation: 0.5\n",
      "Correlation window: 9\n",
      "Ratio: 2\n",
      "Detections: 28\n",
      "True Positives: 7\n"
     ]
    },
    {
     "name": "stderr",
     "output_type": "stream",
     "text": [
      "100%|██████████| 1428/1428 [00:02<00:00, 615.70it/s]\n"
     ]
    },
    {
     "name": "stdout",
     "output_type": "stream",
     "text": [
      "Correlation: 0.5\n",
      "Correlation window: 10\n",
      "Ratio: 2\n",
      "Detections: 24\n",
      "True Positives: 6\n"
     ]
    },
    {
     "name": "stderr",
     "output_type": "stream",
     "text": [
      "100%|██████████| 103/103 [00:00<00:00, 558.23it/s]\n",
      "100%|██████████| 3178/3178 [00:05<00:00, 572.55it/s]\n"
     ]
    },
    {
     "name": "stdout",
     "output_type": "stream",
     "text": [
      "Correlation: 0.6\n",
      "Correlation window: 2\n",
      "Ratio: 2\n",
      "Detections: 60\n",
      "True Positives: 7\n"
     ]
    },
    {
     "name": "stderr",
     "output_type": "stream",
     "text": [
      "100%|██████████| 2938/2938 [00:05<00:00, 576.96it/s]\n"
     ]
    },
    {
     "name": "stdout",
     "output_type": "stream",
     "text": [
      "Correlation: 0.6\n",
      "Correlation window: 3\n",
      "Ratio: 2\n",
      "Detections: 44\n",
      "True Positives: 8\n"
     ]
    },
    {
     "name": "stderr",
     "output_type": "stream",
     "text": [
      "100%|██████████| 2490/2490 [00:04<00:00, 591.61it/s]\n"
     ]
    },
    {
     "name": "stdout",
     "output_type": "stream",
     "text": [
      "Correlation: 0.6\n",
      "Correlation window: 4\n",
      "Ratio: 2\n",
      "Detections: 41\n",
      "True Positives: 7\n"
     ]
    },
    {
     "name": "stderr",
     "output_type": "stream",
     "text": [
      "100%|██████████| 2230/2230 [00:03<00:00, 598.11it/s]\n"
     ]
    },
    {
     "name": "stdout",
     "output_type": "stream",
     "text": [
      "Correlation: 0.6\n",
      "Correlation window: 5\n",
      "Ratio: 2\n",
      "Detections: 41\n",
      "True Positives: 9\n"
     ]
    },
    {
     "name": "stderr",
     "output_type": "stream",
     "text": [
      "100%|██████████| 2053/2053 [00:03<00:00, 577.34it/s]\n"
     ]
    },
    {
     "name": "stdout",
     "output_type": "stream",
     "text": [
      "Correlation: 0.6\n",
      "Correlation window: 6\n",
      "Ratio: 2\n",
      "Detections: 38\n",
      "True Positives: 8\n"
     ]
    },
    {
     "name": "stderr",
     "output_type": "stream",
     "text": [
      "100%|██████████| 1951/1951 [00:03<00:00, 608.23it/s]\n"
     ]
    },
    {
     "name": "stdout",
     "output_type": "stream",
     "text": [
      "Correlation: 0.6\n",
      "Correlation window: 7\n",
      "Ratio: 2\n",
      "Detections: 38\n",
      "True Positives: 9\n"
     ]
    },
    {
     "name": "stderr",
     "output_type": "stream",
     "text": [
      "100%|██████████| 1889/1889 [00:03<00:00, 605.71it/s]\n"
     ]
    },
    {
     "name": "stdout",
     "output_type": "stream",
     "text": [
      "Correlation: 0.6\n",
      "Correlation window: 8\n",
      "Ratio: 2\n",
      "Detections: 35\n",
      "True Positives: 8\n"
     ]
    },
    {
     "name": "stderr",
     "output_type": "stream",
     "text": [
      "100%|██████████| 1829/1829 [00:03<00:00, 581.03it/s]\n"
     ]
    },
    {
     "name": "stdout",
     "output_type": "stream",
     "text": [
      "Correlation: 0.6\n",
      "Correlation window: 9\n",
      "Ratio: 2\n",
      "Detections: 36\n",
      "True Positives: 8\n"
     ]
    },
    {
     "name": "stderr",
     "output_type": "stream",
     "text": [
      "100%|██████████| 1770/1770 [00:02<00:00, 615.39it/s]\n"
     ]
    },
    {
     "name": "stdout",
     "output_type": "stream",
     "text": [
      "Correlation: 0.6\n",
      "Correlation window: 10\n",
      "Ratio: 2\n",
      "Detections: 34\n",
      "True Positives: 8\n"
     ]
    },
    {
     "name": "stderr",
     "output_type": "stream",
     "text": [
      "100%|██████████| 103/103 [00:00<00:00, 552.19it/s]\n",
      "100%|██████████| 3178/3178 [00:05<00:00, 574.03it/s]\n"
     ]
    },
    {
     "name": "stdout",
     "output_type": "stream",
     "text": [
      "Correlation: 0.7\n",
      "Correlation window: 2\n",
      "Ratio: 2\n",
      "Detections: 60\n",
      "True Positives: 7\n"
     ]
    },
    {
     "name": "stderr",
     "output_type": "stream",
     "text": [
      "100%|██████████| 3432/3432 [00:05<00:00, 572.26it/s]\n"
     ]
    },
    {
     "name": "stdout",
     "output_type": "stream",
     "text": [
      "Correlation: 0.7\n",
      "Correlation window: 3\n",
      "Ratio: 2\n",
      "Detections: 58\n",
      "True Positives: 9\n"
     ]
    },
    {
     "name": "stderr",
     "output_type": "stream",
     "text": [
      "100%|██████████| 3071/3071 [00:05<00:00, 597.82it/s]\n"
     ]
    },
    {
     "name": "stdout",
     "output_type": "stream",
     "text": [
      "Correlation: 0.7\n",
      "Correlation window: 4\n",
      "Ratio: 2\n",
      "Detections: 53\n",
      "True Positives: 9\n"
     ]
    },
    {
     "name": "stderr",
     "output_type": "stream",
     "text": [
      "100%|██████████| 2795/2795 [00:04<00:00, 569.42it/s]\n"
     ]
    },
    {
     "name": "stdout",
     "output_type": "stream",
     "text": [
      "Correlation: 0.7\n",
      "Correlation window: 5\n",
      "Ratio: 2\n",
      "Detections: 49\n",
      "True Positives: 11\n"
     ]
    },
    {
     "name": "stderr",
     "output_type": "stream",
     "text": [
      "100%|██████████| 2602/2602 [00:04<00:00, 570.40it/s]\n"
     ]
    },
    {
     "name": "stdout",
     "output_type": "stream",
     "text": [
      "Correlation: 0.7\n",
      "Correlation window: 6\n",
      "Ratio: 2\n",
      "Detections: 46\n",
      "True Positives: 9\n"
     ]
    },
    {
     "name": "stderr",
     "output_type": "stream",
     "text": [
      "100%|██████████| 2527/2527 [00:04<00:00, 597.69it/s]\n"
     ]
    },
    {
     "name": "stdout",
     "output_type": "stream",
     "text": [
      "Correlation: 0.7\n",
      "Correlation window: 7\n",
      "Ratio: 2\n",
      "Detections: 45\n",
      "True Positives: 10\n"
     ]
    },
    {
     "name": "stderr",
     "output_type": "stream",
     "text": [
      "100%|██████████| 2423/2423 [00:04<00:00, 596.11it/s]\n"
     ]
    },
    {
     "name": "stdout",
     "output_type": "stream",
     "text": [
      "Correlation: 0.7\n",
      "Correlation window: 8\n",
      "Ratio: 2\n",
      "Detections: 42\n",
      "True Positives: 10\n"
     ]
    },
    {
     "name": "stderr",
     "output_type": "stream",
     "text": [
      "100%|██████████| 2304/2304 [00:03<00:00, 597.66it/s]\n"
     ]
    },
    {
     "name": "stdout",
     "output_type": "stream",
     "text": [
      "Correlation: 0.7\n",
      "Correlation window: 9\n",
      "Ratio: 2\n",
      "Detections: 40\n",
      "True Positives: 9\n"
     ]
    },
    {
     "name": "stderr",
     "output_type": "stream",
     "text": [
      "100%|██████████| 2246/2246 [00:03<00:00, 589.66it/s]\n"
     ]
    },
    {
     "name": "stdout",
     "output_type": "stream",
     "text": [
      "Correlation: 0.7\n",
      "Correlation window: 10\n",
      "Ratio: 2\n",
      "Detections: 41\n",
      "True Positives: 11\n"
     ]
    },
    {
     "name": "stderr",
     "output_type": "stream",
     "text": [
      "100%|██████████| 103/103 [00:00<00:00, 567.33it/s]\n",
      "100%|██████████| 3178/3178 [00:05<00:00, 560.12it/s]\n"
     ]
    },
    {
     "name": "stdout",
     "output_type": "stream",
     "text": [
      "Correlation: 0.8\n",
      "Correlation window: 2\n",
      "Ratio: 2\n",
      "Detections: 60\n",
      "True Positives: 7\n"
     ]
    },
    {
     "name": "stderr",
     "output_type": "stream",
     "text": [
      "100%|██████████| 4272/4272 [00:07<00:00, 574.23it/s]\n"
     ]
    },
    {
     "name": "stdout",
     "output_type": "stream",
     "text": [
      "Correlation: 0.8\n",
      "Correlation window: 3\n",
      "Ratio: 2\n",
      "Detections: 86\n",
      "True Positives: 12\n"
     ]
    },
    {
     "name": "stderr",
     "output_type": "stream",
     "text": [
      "100%|██████████| 3995/3995 [00:07<00:00, 564.88it/s]\n"
     ]
    },
    {
     "name": "stdout",
     "output_type": "stream",
     "text": [
      "Correlation: 0.8\n",
      "Correlation window: 4\n",
      "Ratio: 2\n",
      "Detections: 81\n",
      "True Positives: 17\n"
     ]
    },
    {
     "name": "stderr",
     "output_type": "stream",
     "text": [
      "100%|██████████| 3746/3746 [00:07<00:00, 527.25it/s]\n"
     ]
    },
    {
     "name": "stdout",
     "output_type": "stream",
     "text": [
      "Correlation: 0.8\n",
      "Correlation window: 5\n",
      "Ratio: 2\n",
      "Detections: 74\n",
      "True Positives: 19\n"
     ]
    },
    {
     "name": "stderr",
     "output_type": "stream",
     "text": [
      "100%|██████████| 3545/3545 [00:07<00:00, 491.94it/s]\n"
     ]
    },
    {
     "name": "stdout",
     "output_type": "stream",
     "text": [
      "Correlation: 0.8\n",
      "Correlation window: 6\n",
      "Ratio: 2\n",
      "Detections: 68\n",
      "True Positives: 17\n"
     ]
    },
    {
     "name": "stderr",
     "output_type": "stream",
     "text": [
      "100%|██████████| 3367/3367 [00:06<00:00, 501.73it/s]\n"
     ]
    },
    {
     "name": "stdout",
     "output_type": "stream",
     "text": [
      "Correlation: 0.8\n",
      "Correlation window: 7\n",
      "Ratio: 2\n",
      "Detections: 65\n",
      "True Positives: 16\n"
     ]
    },
    {
     "name": "stderr",
     "output_type": "stream",
     "text": [
      "100%|██████████| 3258/3258 [00:06<00:00, 523.25it/s]\n"
     ]
    },
    {
     "name": "stdout",
     "output_type": "stream",
     "text": [
      "Correlation: 0.8\n",
      "Correlation window: 8\n",
      "Ratio: 2\n",
      "Detections: 64\n",
      "True Positives: 15\n"
     ]
    },
    {
     "name": "stderr",
     "output_type": "stream",
     "text": [
      "100%|██████████| 3185/3185 [00:05<00:00, 531.33it/s]\n"
     ]
    },
    {
     "name": "stdout",
     "output_type": "stream",
     "text": [
      "Correlation: 0.8\n",
      "Correlation window: 9\n",
      "Ratio: 2\n",
      "Detections: 59\n",
      "True Positives: 13\n"
     ]
    },
    {
     "name": "stderr",
     "output_type": "stream",
     "text": [
      "100%|██████████| 3107/3107 [00:05<00:00, 550.01it/s]\n"
     ]
    },
    {
     "name": "stdout",
     "output_type": "stream",
     "text": [
      "Correlation: 0.8\n",
      "Correlation window: 10\n",
      "Ratio: 2\n",
      "Detections: 52\n",
      "True Positives: 13\n"
     ]
    },
    {
     "name": "stderr",
     "output_type": "stream",
     "text": [
      "100%|██████████| 103/103 [00:00<00:00, 535.06it/s]\n",
      "100%|██████████| 3178/3178 [00:06<00:00, 510.35it/s]\n"
     ]
    },
    {
     "name": "stdout",
     "output_type": "stream",
     "text": [
      "Correlation: 0.9\n",
      "Correlation window: 2\n",
      "Ratio: 2\n",
      "Detections: 60\n",
      "True Positives: 7\n"
     ]
    },
    {
     "name": "stderr",
     "output_type": "stream",
     "text": [
      "100%|██████████| 6009/6009 [00:12<00:00, 498.77it/s]\n"
     ]
    },
    {
     "name": "stdout",
     "output_type": "stream",
     "text": [
      "Correlation: 0.9\n",
      "Correlation window: 3\n",
      "Ratio: 2\n",
      "Detections: 122\n",
      "True Positives: 15\n"
     ]
    },
    {
     "name": "stderr",
     "output_type": "stream",
     "text": [
      "100%|██████████| 6052/6052 [00:11<00:00, 531.05it/s]\n"
     ]
    },
    {
     "name": "stdout",
     "output_type": "stream",
     "text": [
      "Correlation: 0.9\n",
      "Correlation window: 4\n",
      "Ratio: 2\n",
      "Detections: 124\n",
      "True Positives: 18\n"
     ]
    },
    {
     "name": "stderr",
     "output_type": "stream",
     "text": [
      "100%|██████████| 5861/5861 [00:11<00:00, 532.40it/s]\n"
     ]
    },
    {
     "name": "stdout",
     "output_type": "stream",
     "text": [
      "Correlation: 0.9\n",
      "Correlation window: 5\n",
      "Ratio: 2\n",
      "Detections: 118\n",
      "True Positives: 20\n"
     ]
    },
    {
     "name": "stderr",
     "output_type": "stream",
     "text": [
      "100%|██████████| 5653/5653 [00:10<00:00, 543.05it/s]\n"
     ]
    },
    {
     "name": "stdout",
     "output_type": "stream",
     "text": [
      "Correlation: 0.9\n",
      "Correlation window: 6\n",
      "Ratio: 2\n",
      "Detections: 117\n",
      "True Positives: 21\n"
     ]
    },
    {
     "name": "stderr",
     "output_type": "stream",
     "text": [
      " 16%|█▌        | 877/5443 [00:01<00:08, 556.28it/s]\n"
     ]
    },
    {
     "ename": "KeyboardInterrupt",
     "evalue": "",
     "output_type": "error",
     "traceback": [
      "\u001b[1;31m---------------------------------------------------------------------------\u001b[0m",
      "\u001b[1;31mKeyboardInterrupt\u001b[0m                         Traceback (most recent call last)",
      "\u001b[1;32m<ipython-input-30-34f656ee98db>\u001b[0m in \u001b[0;36m<module>\u001b[1;34m\u001b[0m\n\u001b[1;32m----> 1\u001b[1;33m \u001b[0manem_parameter_tunning\u001b[0m\u001b[1;33m(\u001b[0m\u001b[0mdf_D161075\u001b[0m\u001b[1;33m,\u001b[0m \u001b[1;34m'Ch1Anem'\u001b[0m\u001b[1;33m,\u001b[0m \u001b[0mtrue_positive_list\u001b[0m\u001b[1;33m,\u001b[0m \u001b[0mratio_range\u001b[0m\u001b[1;33m=\u001b[0m\u001b[1;36m31\u001b[0m\u001b[1;33m,\u001b[0m \u001b[0mcorrelation_range\u001b[0m\u001b[1;33m=\u001b[0m\u001b[1;36m11\u001b[0m\u001b[1;33m,\u001b[0m \u001b[0mcorrelation_window_range\u001b[0m\u001b[1;33m=\u001b[0m\u001b[1;36m11\u001b[0m\u001b[1;33m)\u001b[0m\u001b[1;33m\u001b[0m\u001b[1;33m\u001b[0m\u001b[0m\n\u001b[0m",
      "\u001b[1;32m<ipython-input-29-a955e6012b11>\u001b[0m in \u001b[0;36manem_parameter_tunning\u001b[1;34m(df, ch_anem, true_positive_list, ratio_range, correlation_range, correlation_window_range)\u001b[0m\n\u001b[0;32m     14\u001b[0m                 \u001b[0mdf_fault_detection\u001b[0m \u001b[1;33m=\u001b[0m \u001b[0mfault_detection\u001b[0m\u001b[1;33m(\u001b[0m\u001b[0mdf_to_tunning\u001b[0m\u001b[1;33m,\u001b[0m \u001b[0msensor\u001b[0m\u001b[1;33m=\u001b[0m\u001b[1;34m'anem'\u001b[0m\u001b[1;33m,\u001b[0m \u001b[0mcorrelation_window\u001b[0m\u001b[1;33m=\u001b[0m\u001b[0mwindow\u001b[0m\u001b[1;33m,\u001b[0m \u001b[0mratio_th\u001b[0m\u001b[1;33m=\u001b[0m\u001b[0mratio\u001b[0m\u001b[1;33m,\u001b[0m \u001b[0mcorrelation_th\u001b[0m\u001b[1;33m=\u001b[0m\u001b[0mcorrelation\u001b[0m\u001b[1;33m)\u001b[0m\u001b[1;33m\u001b[0m\u001b[1;33m\u001b[0m\u001b[0m\n\u001b[0;32m     15\u001b[0m \u001b[1;33m\u001b[0m\u001b[0m\n\u001b[1;32m---> 16\u001b[1;33m                 \u001b[0mdf_anem_filtered\u001b[0m \u001b[1;33m=\u001b[0m \u001b[0manemometer_identification\u001b[0m\u001b[1;33m(\u001b[0m\u001b[0mdf_fault_detection\u001b[0m\u001b[1;33m)\u001b[0m\u001b[1;33m\u001b[0m\u001b[1;33m\u001b[0m\u001b[0m\n\u001b[0m\u001b[0;32m     17\u001b[0m \u001b[1;33m\u001b[0m\u001b[0m\n\u001b[0;32m     18\u001b[0m                 \u001b[0mindexes\u001b[0m \u001b[1;33m=\u001b[0m \u001b[0mget_index_list\u001b[0m\u001b[1;33m(\u001b[0m\u001b[0mdf_anem_filtered\u001b[0m\u001b[1;33m,\u001b[0m \u001b[0mch_anem\u001b[0m\u001b[1;33m)\u001b[0m\u001b[1;33m\u001b[0m\u001b[1;33m\u001b[0m\u001b[0m\n",
      "\u001b[1;32m~\\Documents\\AnacondaProjects\\Github\\AERO\\Working\\Franco\\Analysis\\sensor_analysis_functions.py\u001b[0m in \u001b[0;36manemometer_identification\u001b[1;34m(df_stats, ratio_th, correlation_th, window)\u001b[0m\n\u001b[0;32m    130\u001b[0m                 \u001b[0mch_anem_to_join\u001b[0m\u001b[1;33m.\u001b[0m\u001b[0mappend\u001b[0m\u001b[1;33m(\u001b[0m\u001b[0mcol\u001b[0m\u001b[1;33m)\u001b[0m\u001b[1;33m\u001b[0m\u001b[1;33m\u001b[0m\u001b[0m\n\u001b[0;32m    131\u001b[0m \u001b[1;33m\u001b[0m\u001b[0m\n\u001b[1;32m--> 132\u001b[1;33m         \u001b[0mdf_to_return\u001b[0m\u001b[1;33m.\u001b[0m\u001b[0mloc\u001b[0m\u001b[1;33m[\u001b[0m\u001b[0midx\u001b[0m\u001b[1;33m,\u001b[0m \u001b[1;34m'broken?'\u001b[0m\u001b[1;33m]\u001b[0m \u001b[1;33m=\u001b[0m \u001b[1;34m','\u001b[0m\u001b[1;33m.\u001b[0m\u001b[0mjoin\u001b[0m\u001b[1;33m(\u001b[0m\u001b[0mnp\u001b[0m\u001b[1;33m.\u001b[0m\u001b[0munique\u001b[0m\u001b[1;33m(\u001b[0m\u001b[0mkeys\u001b[0m\u001b[1;33m+\u001b[0m\u001b[0mch_anem_to_join\u001b[0m\u001b[1;33m)\u001b[0m\u001b[1;33m)\u001b[0m\u001b[1;33m\u001b[0m\u001b[1;33m\u001b[0m\u001b[0m\n\u001b[0m\u001b[0;32m    133\u001b[0m \u001b[1;33m\u001b[0m\u001b[0m\n\u001b[0;32m    134\u001b[0m     \u001b[0mdf_to_return\u001b[0m\u001b[1;33m.\u001b[0m\u001b[0mloc\u001b[0m\u001b[1;33m[\u001b[0m\u001b[0mdf_to_return\u001b[0m\u001b[1;33m[\u001b[0m\u001b[1;34m'broken?'\u001b[0m\u001b[1;33m]\u001b[0m \u001b[1;33m==\u001b[0m \u001b[1;34m''\u001b[0m\u001b[1;33m,\u001b[0m \u001b[1;34m'broken?'\u001b[0m\u001b[1;33m]\u001b[0m \u001b[1;33m=\u001b[0m \u001b[1;34m'None'\u001b[0m\u001b[1;33m\u001b[0m\u001b[1;33m\u001b[0m\u001b[0m\n",
      "\u001b[1;32mD:\\Program Files (x86)\\Anaconda\\lib\\site-packages\\pandas\\core\\indexing.py\u001b[0m in \u001b[0;36m__setitem__\u001b[1;34m(self, key, value)\u001b[0m\n\u001b[0;32m    187\u001b[0m             \u001b[0mkey\u001b[0m \u001b[1;33m=\u001b[0m \u001b[0mcom\u001b[0m\u001b[1;33m.\u001b[0m\u001b[0m_apply_if_callable\u001b[0m\u001b[1;33m(\u001b[0m\u001b[0mkey\u001b[0m\u001b[1;33m,\u001b[0m \u001b[0mself\u001b[0m\u001b[1;33m.\u001b[0m\u001b[0mobj\u001b[0m\u001b[1;33m)\u001b[0m\u001b[1;33m\u001b[0m\u001b[1;33m\u001b[0m\u001b[0m\n\u001b[0;32m    188\u001b[0m         \u001b[0mindexer\u001b[0m \u001b[1;33m=\u001b[0m \u001b[0mself\u001b[0m\u001b[1;33m.\u001b[0m\u001b[0m_get_setitem_indexer\u001b[0m\u001b[1;33m(\u001b[0m\u001b[0mkey\u001b[0m\u001b[1;33m)\u001b[0m\u001b[1;33m\u001b[0m\u001b[1;33m\u001b[0m\u001b[0m\n\u001b[1;32m--> 189\u001b[1;33m         \u001b[0mself\u001b[0m\u001b[1;33m.\u001b[0m\u001b[0m_setitem_with_indexer\u001b[0m\u001b[1;33m(\u001b[0m\u001b[0mindexer\u001b[0m\u001b[1;33m,\u001b[0m \u001b[0mvalue\u001b[0m\u001b[1;33m)\u001b[0m\u001b[1;33m\u001b[0m\u001b[1;33m\u001b[0m\u001b[0m\n\u001b[0m\u001b[0;32m    190\u001b[0m \u001b[1;33m\u001b[0m\u001b[0m\n\u001b[0;32m    191\u001b[0m     \u001b[1;32mdef\u001b[0m \u001b[0m_validate_key\u001b[0m\u001b[1;33m(\u001b[0m\u001b[0mself\u001b[0m\u001b[1;33m,\u001b[0m \u001b[0mkey\u001b[0m\u001b[1;33m,\u001b[0m \u001b[0maxis\u001b[0m\u001b[1;33m)\u001b[0m\u001b[1;33m:\u001b[0m\u001b[1;33m\u001b[0m\u001b[1;33m\u001b[0m\u001b[0m\n",
      "\u001b[1;32mD:\\Program Files (x86)\\Anaconda\\lib\\site-packages\\pandas\\core\\indexing.py\u001b[0m in \u001b[0;36m_setitem_with_indexer\u001b[1;34m(self, indexer, value)\u001b[0m\n\u001b[0;32m    613\u001b[0m                 \u001b[1;31m# scalar\u001b[0m\u001b[1;33m\u001b[0m\u001b[1;33m\u001b[0m\u001b[1;33m\u001b[0m\u001b[0m\n\u001b[0;32m    614\u001b[0m                 \u001b[1;32mfor\u001b[0m \u001b[0mitem\u001b[0m \u001b[1;32min\u001b[0m \u001b[0mlabels\u001b[0m\u001b[1;33m:\u001b[0m\u001b[1;33m\u001b[0m\u001b[1;33m\u001b[0m\u001b[0m\n\u001b[1;32m--> 615\u001b[1;33m                     \u001b[0msetter\u001b[0m\u001b[1;33m(\u001b[0m\u001b[0mitem\u001b[0m\u001b[1;33m,\u001b[0m \u001b[0mvalue\u001b[0m\u001b[1;33m)\u001b[0m\u001b[1;33m\u001b[0m\u001b[1;33m\u001b[0m\u001b[0m\n\u001b[0m\u001b[0;32m    616\u001b[0m \u001b[1;33m\u001b[0m\u001b[0m\n\u001b[0;32m    617\u001b[0m         \u001b[1;32melse\u001b[0m\u001b[1;33m:\u001b[0m\u001b[1;33m\u001b[0m\u001b[1;33m\u001b[0m\u001b[0m\n",
      "\u001b[1;32mD:\\Program Files (x86)\\Anaconda\\lib\\site-packages\\pandas\\core\\indexing.py\u001b[0m in \u001b[0;36msetter\u001b[1;34m(item, v)\u001b[0m\n\u001b[0;32m    541\u001b[0m \u001b[1;33m\u001b[0m\u001b[0m\n\u001b[0;32m    542\u001b[0m                 \u001b[1;31m# reset the sliced object if unique\u001b[0m\u001b[1;33m\u001b[0m\u001b[1;33m\u001b[0m\u001b[1;33m\u001b[0m\u001b[0m\n\u001b[1;32m--> 543\u001b[1;33m                 \u001b[0mself\u001b[0m\u001b[1;33m.\u001b[0m\u001b[0mobj\u001b[0m\u001b[1;33m[\u001b[0m\u001b[0mitem\u001b[0m\u001b[1;33m]\u001b[0m \u001b[1;33m=\u001b[0m \u001b[0ms\u001b[0m\u001b[1;33m\u001b[0m\u001b[1;33m\u001b[0m\u001b[0m\n\u001b[0m\u001b[0;32m    544\u001b[0m \u001b[1;33m\u001b[0m\u001b[0m\n\u001b[0;32m    545\u001b[0m             \u001b[1;32mdef\u001b[0m \u001b[0mcan_do_equal_len\u001b[0m\u001b[1;33m(\u001b[0m\u001b[1;33m)\u001b[0m\u001b[1;33m:\u001b[0m\u001b[1;33m\u001b[0m\u001b[1;33m\u001b[0m\u001b[0m\n",
      "\u001b[1;32mD:\\Program Files (x86)\\Anaconda\\lib\\site-packages\\pandas\\core\\frame.py\u001b[0m in \u001b[0;36m__setitem__\u001b[1;34m(self, key, value)\u001b[0m\n\u001b[0;32m   3117\u001b[0m         \u001b[1;32melse\u001b[0m\u001b[1;33m:\u001b[0m\u001b[1;33m\u001b[0m\u001b[1;33m\u001b[0m\u001b[0m\n\u001b[0;32m   3118\u001b[0m             \u001b[1;31m# set column\u001b[0m\u001b[1;33m\u001b[0m\u001b[1;33m\u001b[0m\u001b[1;33m\u001b[0m\u001b[0m\n\u001b[1;32m-> 3119\u001b[1;33m             \u001b[0mself\u001b[0m\u001b[1;33m.\u001b[0m\u001b[0m_set_item\u001b[0m\u001b[1;33m(\u001b[0m\u001b[0mkey\u001b[0m\u001b[1;33m,\u001b[0m \u001b[0mvalue\u001b[0m\u001b[1;33m)\u001b[0m\u001b[1;33m\u001b[0m\u001b[1;33m\u001b[0m\u001b[0m\n\u001b[0m\u001b[0;32m   3120\u001b[0m \u001b[1;33m\u001b[0m\u001b[0m\n\u001b[0;32m   3121\u001b[0m     \u001b[1;32mdef\u001b[0m \u001b[0m_setitem_slice\u001b[0m\u001b[1;33m(\u001b[0m\u001b[0mself\u001b[0m\u001b[1;33m,\u001b[0m \u001b[0mkey\u001b[0m\u001b[1;33m,\u001b[0m \u001b[0mvalue\u001b[0m\u001b[1;33m)\u001b[0m\u001b[1;33m:\u001b[0m\u001b[1;33m\u001b[0m\u001b[1;33m\u001b[0m\u001b[0m\n",
      "\u001b[1;32mD:\\Program Files (x86)\\Anaconda\\lib\\site-packages\\pandas\\core\\frame.py\u001b[0m in \u001b[0;36m_set_item\u001b[1;34m(self, key, value)\u001b[0m\n\u001b[0;32m   3192\u001b[0m \u001b[1;33m\u001b[0m\u001b[0m\n\u001b[0;32m   3193\u001b[0m         \u001b[0mself\u001b[0m\u001b[1;33m.\u001b[0m\u001b[0m_ensure_valid_index\u001b[0m\u001b[1;33m(\u001b[0m\u001b[0mvalue\u001b[0m\u001b[1;33m)\u001b[0m\u001b[1;33m\u001b[0m\u001b[1;33m\u001b[0m\u001b[0m\n\u001b[1;32m-> 3194\u001b[1;33m         \u001b[0mvalue\u001b[0m \u001b[1;33m=\u001b[0m \u001b[0mself\u001b[0m\u001b[1;33m.\u001b[0m\u001b[0m_sanitize_column\u001b[0m\u001b[1;33m(\u001b[0m\u001b[0mkey\u001b[0m\u001b[1;33m,\u001b[0m \u001b[0mvalue\u001b[0m\u001b[1;33m)\u001b[0m\u001b[1;33m\u001b[0m\u001b[1;33m\u001b[0m\u001b[0m\n\u001b[0m\u001b[0;32m   3195\u001b[0m         \u001b[0mNDFrame\u001b[0m\u001b[1;33m.\u001b[0m\u001b[0m_set_item\u001b[0m\u001b[1;33m(\u001b[0m\u001b[0mself\u001b[0m\u001b[1;33m,\u001b[0m \u001b[0mkey\u001b[0m\u001b[1;33m,\u001b[0m \u001b[0mvalue\u001b[0m\u001b[1;33m)\u001b[0m\u001b[1;33m\u001b[0m\u001b[1;33m\u001b[0m\u001b[0m\n\u001b[0;32m   3196\u001b[0m \u001b[1;33m\u001b[0m\u001b[0m\n",
      "\u001b[1;32mD:\\Program Files (x86)\\Anaconda\\lib\\site-packages\\pandas\\core\\frame.py\u001b[0m in \u001b[0;36m_sanitize_column\u001b[1;34m(self, key, value, broadcast)\u001b[0m\n\u001b[0;32m   3364\u001b[0m \u001b[1;33m\u001b[0m\u001b[0m\n\u001b[0;32m   3365\u001b[0m         \u001b[1;32mif\u001b[0m \u001b[0misinstance\u001b[0m\u001b[1;33m(\u001b[0m\u001b[0mvalue\u001b[0m\u001b[1;33m,\u001b[0m \u001b[0mSeries\u001b[0m\u001b[1;33m)\u001b[0m\u001b[1;33m:\u001b[0m\u001b[1;33m\u001b[0m\u001b[1;33m\u001b[0m\u001b[0m\n\u001b[1;32m-> 3366\u001b[1;33m             \u001b[0mvalue\u001b[0m \u001b[1;33m=\u001b[0m \u001b[0mreindexer\u001b[0m\u001b[1;33m(\u001b[0m\u001b[0mvalue\u001b[0m\u001b[1;33m)\u001b[0m\u001b[1;33m\u001b[0m\u001b[1;33m\u001b[0m\u001b[0m\n\u001b[0m\u001b[0;32m   3367\u001b[0m \u001b[1;33m\u001b[0m\u001b[0m\n\u001b[0;32m   3368\u001b[0m         \u001b[1;32melif\u001b[0m \u001b[0misinstance\u001b[0m\u001b[1;33m(\u001b[0m\u001b[0mvalue\u001b[0m\u001b[1;33m,\u001b[0m \u001b[0mDataFrame\u001b[0m\u001b[1;33m)\u001b[0m\u001b[1;33m:\u001b[0m\u001b[1;33m\u001b[0m\u001b[1;33m\u001b[0m\u001b[0m\n",
      "\u001b[1;32mD:\\Program Files (x86)\\Anaconda\\lib\\site-packages\\pandas\\core\\frame.py\u001b[0m in \u001b[0;36mreindexer\u001b[1;34m(value)\u001b[0m\n\u001b[0;32m   3346\u001b[0m \u001b[1;33m\u001b[0m\u001b[0m\n\u001b[0;32m   3347\u001b[0m             \u001b[1;32mif\u001b[0m \u001b[0mvalue\u001b[0m\u001b[1;33m.\u001b[0m\u001b[0mindex\u001b[0m\u001b[1;33m.\u001b[0m\u001b[0mequals\u001b[0m\u001b[1;33m(\u001b[0m\u001b[0mself\u001b[0m\u001b[1;33m.\u001b[0m\u001b[0mindex\u001b[0m\u001b[1;33m)\u001b[0m \u001b[1;32mor\u001b[0m \u001b[1;32mnot\u001b[0m \u001b[0mlen\u001b[0m\u001b[1;33m(\u001b[0m\u001b[0mself\u001b[0m\u001b[1;33m.\u001b[0m\u001b[0mindex\u001b[0m\u001b[1;33m)\u001b[0m\u001b[1;33m:\u001b[0m\u001b[1;33m\u001b[0m\u001b[1;33m\u001b[0m\u001b[0m\n\u001b[1;32m-> 3348\u001b[1;33m                 \u001b[0mvalue\u001b[0m \u001b[1;33m=\u001b[0m \u001b[0mvalue\u001b[0m\u001b[1;33m.\u001b[0m\u001b[0m_values\u001b[0m\u001b[1;33m.\u001b[0m\u001b[0mcopy\u001b[0m\u001b[1;33m(\u001b[0m\u001b[1;33m)\u001b[0m\u001b[1;33m\u001b[0m\u001b[1;33m\u001b[0m\u001b[0m\n\u001b[0m\u001b[0;32m   3349\u001b[0m             \u001b[1;32melse\u001b[0m\u001b[1;33m:\u001b[0m\u001b[1;33m\u001b[0m\u001b[1;33m\u001b[0m\u001b[0m\n\u001b[0;32m   3350\u001b[0m \u001b[1;33m\u001b[0m\u001b[0m\n",
      "\u001b[1;31mKeyboardInterrupt\u001b[0m: "
     ]
    }
   ],
   "source": [
    "anem_parameter_tunning(df_D161075, 'Ch1Anem', true_positive_list, ratio_range=9, correlation_range=11, correlation_window_range=11)"
   ]
  },
  {
   "cell_type": "code",
   "execution_count": null,
   "metadata": {},
   "outputs": [],
   "source": []
  },
  {
   "cell_type": "code",
   "execution_count": null,
   "metadata": {},
   "outputs": [],
   "source": []
  },
  {
   "cell_type": "code",
   "execution_count": null,
   "metadata": {},
   "outputs": [],
   "source": []
  },
  {
   "cell_type": "code",
   "execution_count": null,
   "metadata": {},
   "outputs": [],
   "source": []
  }
 ],
 "metadata": {
  "kernelspec": {
   "display_name": "Python 3",
   "language": "python",
   "name": "python3"
  },
  "language_info": {
   "codemirror_mode": {
    "name": "ipython",
    "version": 3
   },
   "file_extension": ".py",
   "mimetype": "text/x-python",
   "name": "python",
   "nbconvert_exporter": "python",
   "pygments_lexer": "ipython3",
   "version": "3.6.5"
  }
 },
 "nbformat": 4,
 "nbformat_minor": 2
}
