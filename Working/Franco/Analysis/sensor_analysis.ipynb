{
 "cells": [
  {
   "cell_type": "code",
   "execution_count": 1,
   "metadata": {},
   "outputs": [],
   "source": [
    "import pandas as pd"
   ]
  },
  {
   "cell_type": "code",
   "execution_count": 2,
   "metadata": {},
   "outputs": [],
   "source": [
    "from sensor_analysis_functions import fault_detection, plotting_anem_parameter_tunning, anemometer_identification, plot_sensors"
   ]
  },
  {
   "cell_type": "code",
   "execution_count": 3,
   "metadata": {},
   "outputs": [],
   "source": [
    "df_vaquerias = pd.read_csv('../Cleaner/data/000960_Vaquerias,_Jalisco_meas_2017.09.04-2017.10.03.txt_data_cleaned.csv', index_col=0)"
   ]
  },
  {
   "cell_type": "code",
   "execution_count": 4,
   "metadata": {},
   "outputs": [],
   "source": [
    "df_vaquerias_fault_detection = fault_detection(df_vaquerias, sensor='anem')"
   ]
  },
  {
   "cell_type": "code",
   "execution_count": 5,
   "metadata": {},
   "outputs": [
    {
     "name": "stderr",
     "output_type": "stream",
     "text": [
      "100%|██████████| 11292/11292 [00:20<00:00, 556.61it/s]\n"
     ]
    }
   ],
   "source": [
    "df_vaquerias_anemometer_identification = anemometer_identification(df_vaquerias_fault_detection)"
   ]
  },
  {
   "cell_type": "code",
   "execution_count": 8,
   "metadata": {},
   "outputs": [
    {
     "data": {
      "text/html": [
       "<div>\n",
       "<style scoped>\n",
       "    .dataframe tbody tr th:only-of-type {\n",
       "        vertical-align: middle;\n",
       "    }\n",
       "\n",
       "    .dataframe tbody tr th {\n",
       "        vertical-align: top;\n",
       "    }\n",
       "\n",
       "    .dataframe thead th {\n",
       "        text-align: right;\n",
       "    }\n",
       "</style>\n",
       "<table border=\"1\" class=\"dataframe\">\n",
       "  <thead>\n",
       "    <tr style=\"text-align: right;\">\n",
       "      <th></th>\n",
       "      <th>Timestamp</th>\n",
       "      <th>Ch1Anem</th>\n",
       "      <th>Ch2Anem</th>\n",
       "      <th>Ch3Anem</th>\n",
       "      <th>Ch4Anem</th>\n",
       "      <th>Ch5Anem</th>\n",
       "      <th>Ch6Anem</th>\n",
       "      <th>broken?</th>\n",
       "    </tr>\n",
       "  </thead>\n",
       "  <tbody>\n",
       "    <tr>\n",
       "      <th>0</th>\n",
       "      <td>2017-09-04 10:28:44</td>\n",
       "      <td>0.22192</td>\n",
       "      <td>0.2382</td>\n",
       "      <td>0.23845</td>\n",
       "      <td>0.23843</td>\n",
       "      <td>0.22588</td>\n",
       "      <td>0.2474</td>\n",
       "      <td>None</td>\n",
       "    </tr>\n",
       "    <tr>\n",
       "      <th>1</th>\n",
       "      <td>2017-09-04 10:29:00</td>\n",
       "      <td>0.22192</td>\n",
       "      <td>0.2382</td>\n",
       "      <td>0.23845</td>\n",
       "      <td>0.23843</td>\n",
       "      <td>0.22588</td>\n",
       "      <td>0.2474</td>\n",
       "      <td>None</td>\n",
       "    </tr>\n",
       "    <tr>\n",
       "      <th>2</th>\n",
       "      <td>2017-09-04 10:30:00</td>\n",
       "      <td>0.22192</td>\n",
       "      <td>0.2382</td>\n",
       "      <td>0.23845</td>\n",
       "      <td>0.23843</td>\n",
       "      <td>0.22588</td>\n",
       "      <td>0.2474</td>\n",
       "      <td>None</td>\n",
       "    </tr>\n",
       "    <tr>\n",
       "      <th>3</th>\n",
       "      <td>2017-09-04 10:31:00</td>\n",
       "      <td>0.22192</td>\n",
       "      <td>0.2382</td>\n",
       "      <td>0.23845</td>\n",
       "      <td>0.23843</td>\n",
       "      <td>0.22588</td>\n",
       "      <td>0.2474</td>\n",
       "      <td>None</td>\n",
       "    </tr>\n",
       "    <tr>\n",
       "      <th>4</th>\n",
       "      <td>2017-09-04 10:31:21</td>\n",
       "      <td>0.22192</td>\n",
       "      <td>0.2382</td>\n",
       "      <td>0.23845</td>\n",
       "      <td>0.23843</td>\n",
       "      <td>0.22588</td>\n",
       "      <td>0.2474</td>\n",
       "      <td>None</td>\n",
       "    </tr>\n",
       "    <tr>\n",
       "      <th>5</th>\n",
       "      <td>2017-09-04 10:32:00</td>\n",
       "      <td>0.22192</td>\n",
       "      <td>0.2382</td>\n",
       "      <td>0.23845</td>\n",
       "      <td>0.23843</td>\n",
       "      <td>0.22588</td>\n",
       "      <td>0.2474</td>\n",
       "      <td>None</td>\n",
       "    </tr>\n",
       "    <tr>\n",
       "      <th>6</th>\n",
       "      <td>2017-09-04 10:33:00</td>\n",
       "      <td>0.22192</td>\n",
       "      <td>0.2382</td>\n",
       "      <td>0.23845</td>\n",
       "      <td>0.23843</td>\n",
       "      <td>0.22588</td>\n",
       "      <td>0.2474</td>\n",
       "      <td>None</td>\n",
       "    </tr>\n",
       "    <tr>\n",
       "      <th>7</th>\n",
       "      <td>2017-09-04 10:34:00</td>\n",
       "      <td>0.22192</td>\n",
       "      <td>0.2382</td>\n",
       "      <td>0.23845</td>\n",
       "      <td>0.23843</td>\n",
       "      <td>0.22588</td>\n",
       "      <td>0.2474</td>\n",
       "      <td>None</td>\n",
       "    </tr>\n",
       "    <tr>\n",
       "      <th>8</th>\n",
       "      <td>2017-09-04 10:35:00</td>\n",
       "      <td>0.22192</td>\n",
       "      <td>0.2382</td>\n",
       "      <td>0.23845</td>\n",
       "      <td>0.23843</td>\n",
       "      <td>0.22588</td>\n",
       "      <td>0.2474</td>\n",
       "      <td>None</td>\n",
       "    </tr>\n",
       "    <tr>\n",
       "      <th>9</th>\n",
       "      <td>2017-09-04 10:36:00</td>\n",
       "      <td>0.22192</td>\n",
       "      <td>0.2382</td>\n",
       "      <td>0.23845</td>\n",
       "      <td>0.23843</td>\n",
       "      <td>0.22588</td>\n",
       "      <td>0.2474</td>\n",
       "      <td>Ch4Anem</td>\n",
       "    </tr>\n",
       "  </tbody>\n",
       "</table>\n",
       "</div>"
      ],
      "text/plain": [
       "             Timestamp  Ch1Anem  Ch2Anem  Ch3Anem  Ch4Anem  Ch5Anem  Ch6Anem  \\\n",
       "0  2017-09-04 10:28:44  0.22192   0.2382  0.23845  0.23843  0.22588   0.2474   \n",
       "1  2017-09-04 10:29:00  0.22192   0.2382  0.23845  0.23843  0.22588   0.2474   \n",
       "2  2017-09-04 10:30:00  0.22192   0.2382  0.23845  0.23843  0.22588   0.2474   \n",
       "3  2017-09-04 10:31:00  0.22192   0.2382  0.23845  0.23843  0.22588   0.2474   \n",
       "4  2017-09-04 10:31:21  0.22192   0.2382  0.23845  0.23843  0.22588   0.2474   \n",
       "5  2017-09-04 10:32:00  0.22192   0.2382  0.23845  0.23843  0.22588   0.2474   \n",
       "6  2017-09-04 10:33:00  0.22192   0.2382  0.23845  0.23843  0.22588   0.2474   \n",
       "7  2017-09-04 10:34:00  0.22192   0.2382  0.23845  0.23843  0.22588   0.2474   \n",
       "8  2017-09-04 10:35:00  0.22192   0.2382  0.23845  0.23843  0.22588   0.2474   \n",
       "9  2017-09-04 10:36:00  0.22192   0.2382  0.23845  0.23843  0.22588   0.2474   \n",
       "\n",
       "   broken?  \n",
       "0     None  \n",
       "1     None  \n",
       "2     None  \n",
       "3     None  \n",
       "4     None  \n",
       "5     None  \n",
       "6     None  \n",
       "7     None  \n",
       "8     None  \n",
       "9  Ch4Anem  "
      ]
     },
     "execution_count": 8,
     "metadata": {},
     "output_type": "execute_result"
    }
   ],
   "source": [
    "df_vaquerias_anemometer_identification.head(10)"
   ]
  },
  {
   "cell_type": "code",
   "execution_count": 9,
   "metadata": {},
   "outputs": [
    {
     "data": {
      "image/png": "[encoded data removed]",
      "text/plain": [
       "<Figure size 1800x1080 with 1 Axes>"
      ]
     },
     "metadata": {
      "needs_background": "light"
     },
     "output_type": "display_data"
    }
   ],
   "source": [
    "plot_sensors(df_vaquerias_anemometer_identification, 2000, sensors=['Ch1Anem', 'Ch2Anem'])"
   ]
  },
  {
   "cell_type": "code",
   "execution_count": null,
   "metadata": {},
   "outputs": [],
   "source": []
  },
  {
   "cell_type": "code",
   "execution_count": null,
   "metadata": {},
   "outputs": [],
   "source": []
  },
  {
   "cell_type": "code",
   "execution_count": null,
   "metadata": {},
   "outputs": [],
   "source": []
  },
  {
   "cell_type": "code",
   "execution_count": null,
   "metadata": {},
   "outputs": [],
   "source": []
  }
 ],
 "metadata": {
  "kernelspec": {
   "display_name": "Python 3",
   "language": "python",
   "name": "python3"
  },
  "language_info": {
   "codemirror_mode": {
    "name": "ipython",
    "version": 3
   },
   "file_extension": ".py",
   "mimetype": "text/x-python",
   "name": "python",
   "nbconvert_exporter": "python",
   "pygments_lexer": "ipython3",
   "version": "3.7.1"
  }
 },
 "nbformat": 4,
 "nbformat_minor": 2
}
